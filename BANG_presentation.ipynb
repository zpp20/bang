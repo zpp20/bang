{
  "cells": [
    {
      "cell_type": "code",
      "execution_count": null,
      "metadata": {
        "colab": {
          "base_uri": "https://localhost:8080/"
        },
        "id": "87bes_cMFqQF",
        "outputId": "12898c88-f6fe-4daa-c43f-9ad346d969ab"
      },
      "outputs": [
        {
          "name": "stdout",
          "output_type": "stream",
          "text": [
            "Requirement already satisfied: numba in /usr/local/lib/python3.10/dist-packages (0.60.0)\n",
            "Requirement already satisfied: llvmlite<0.44,>=0.43.0dev0 in /usr/local/lib/python3.10/dist-packages (from numba) (0.43.0)\n",
            "Requirement already satisfied: numpy<2.1,>=1.22 in /usr/local/lib/python3.10/dist-packages (from numba) (1.26.4)\n"
          ]
        }
      ],
      "source": [
        "pip install numba"
      ]
    },
    {
      "cell_type": "markdown",
      "metadata": {
        "id": "X50stypjRZvu"
      },
      "source": [
        "#BooleAn Networks on Gpu (BANG) - demonstration\n",
        "This notebook showcases abilities of BANG, a python library for simulation of Probabilistic Boolean Networks on GPU."
      ]
    },
    {
      "cell_type": "code",
      "execution_count": null,
      "metadata": {
        "colab": {
          "base_uri": "https://localhost:8080/"
        },
        "id": "5udxao8g0znM",
        "outputId": "9be4c933-4dfe-4a89-b9b3-0ae829a24dbd"
      },
      "outputs": [
        {
          "name": "stdout",
          "output_type": "stream",
          "text": [
            "Looking in indexes: https://test.pypi.org/simple/, https://pypi.org/simple/\n",
            "Collecting bang-gpu==0.0.1a1\n",
            "  Downloading https://test-files.pythonhosted.org/packages/9b/e0/525c2a2ce57018e241fa7b225184a9e912d3a8c84a6320a04a9803e70134/bang_gpu-0.0.1a1-cp310-cp310-manylinux_2_17_x86_64.manylinux2014_x86_64.whl.metadata (14 kB)\n",
            "Collecting python-libsbml (from bang-gpu==0.0.1a1)\n",
            "  Downloading python_libsbml-5.20.4-cp310-cp310-manylinux_2_17_x86_64.manylinux2014_x86_64.whl.metadata (532 bytes)\n",
            "Downloading https://test-files.pythonhosted.org/packages/9b/e0/525c2a2ce57018e241fa7b225184a9e912d3a8c84a6320a04a9803e70134/bang_gpu-0.0.1a1-cp310-cp310-manylinux_2_17_x86_64.manylinux2014_x86_64.whl (59.5 MB)\n",
            "\u001b[2K   \u001b[90m━━━━━━━━━━━━━━━━━━━━━━━━━━━━━━━━━━━━━━━━\u001b[0m \u001b[32m59.5/59.5 MB\u001b[0m \u001b[31m7.3 MB/s\u001b[0m eta \u001b[36m0:00:00\u001b[0m\n",
            "\u001b[?25hDownloading python_libsbml-5.20.4-cp310-cp310-manylinux_2_17_x86_64.manylinux2014_x86_64.whl (8.0 MB)\n",
            "\u001b[2K   \u001b[90m━━━━━━━━━━━━━━━━━━━━━━━━━━━━━━━━━━━━━━━━\u001b[0m \u001b[32m8.0/8.0 MB\u001b[0m \u001b[31m71.4 MB/s\u001b[0m eta \u001b[36m0:00:00\u001b[0m\n",
            "\u001b[?25hInstalling collected packages: python-libsbml, bang-gpu\n",
            "Successfully installed bang-gpu-0.0.1a1 python-libsbml-5.20.4\n"
          ]
        }
      ],
      "source": [
        "pip install -i https://test.pypi.org/simple/ --extra-index-url https://pypi.org/simple/ bang-gpu==0.0.1a1"
      ]
    },
    {
      "cell_type": "markdown",
      "metadata": {
        "id": "kvwfLLVOTdvr"
      },
      "source": [
        "##What is a (Probabilistic) Boolean Network?\n",
        "Probabilistic Boolean Networks are mathematical structures consisting of a set of Boolean variables as well as one or more functions corresponding to each variable and computing its state based on current values of variables. Eventually after long enough time states of these Networks stabilize into just a few constantly recurring values called \"attractors\"\n",
        "\n",
        "##What are Probabilistic Boolean Networks used for?\n",
        "Probabilistic Boolean Networks in spite of a relatively simple structure allow to model behaviour of complex systems in discrete time series. One of the most often modelled objects are **Gene Regulatory Networks**, used for modelling evolution of cell in a time period. Nodes of Boolean Networks correspond well to the genes of a cell and attractors are a great representation of final stages of cell evolution.\n",
        "![](https://raw.githubusercontent.com/pavozayac/bang/49-add-sample-picture-to-notebook-as-proof-of-concept/notebook_files/img/sample_pbn_picture.png)"
      ]
    },
    {
      "cell_type": "markdown",
      "metadata": {
        "id": "5H_lKPItz_tY"
      },
      "source": [
        "##Loading network from a file\n",
        "\n",
        "Probabilistic Boolean Networks can be represented in an .*sbml* format which is an extension of XML and a standard for representing biological models.\n",
        "\n",
        "Alternatively we can import files in .*pbn* format which was used in previous software modelling PBNs.\n",
        "\n",
        "We start by downloading file containing a simple PBN."
      ]
    },
    {
      "cell_type": "code",
      "execution_count": null,
      "metadata": {
        "id": "6oCCmZ3aTdZ8"
      },
      "outputs": [],
      "source": [
        "import requests\n",
        "\n",
        "url = \"https://raw.githubusercontent.com/pavozayac/bang/refs/heads/main/notebook_files/files/test2.pbn\"\n",
        "\n",
        "response = requests.get(url)\n",
        "content = response.text\n",
        "\n",
        "with open(\"example_network.pbn\", \"w\") as file:\n",
        "    file.write(content)"
      ]
    },
    {
      "cell_type": "markdown",
      "metadata": {
        "id": "ZhST3bXUDQJL"
      },
      "source": [
        "Now we can load Probabilistic Boolean Network from this file\n"
      ]
    },
    {
      "cell_type": "code",
      "execution_count": null,
      "metadata": {
        "colab": {
          "base_uri": "https://localhost:8080/"
        },
        "id": "nQoctuKGCd0H",
        "outputId": "e0624835-744f-4025-d2ec-cbb263f9352e"
      },
      "outputs": [
        {
          "name": "stdout",
          "output_type": "stream",
          "text": [
            "name: x0\n",
            "name: x1\n",
            "name: x2\n"
          ]
        }
      ],
      "source": [
        "import bang\n",
        "\n",
        "pbn = bang.load_from_file(\"example_network.pbn\", \"assa\")"
      ]
    },
    {
      "cell_type": "markdown",
      "metadata": {
        "id": "QzgBT0ygEBVh"
      },
      "source": [
        "This method writes down names of the nodes of our network. Now we can load data from our PBN into our module simulating Network:"
      ]
    },
    {
      "cell_type": "code",
      "execution_count": null,
      "metadata": {
        "colab": {
          "base_uri": "https://localhost:8080/",
          "height": 144
        },
        "id": "6uSoRIemEAqt",
        "outputId": "cf39e9ff-42ce-48e8-b4f1-90f7d7887863"
      },
      "outputs": [
        {
          "ename": "AttributeError",
          "evalue": "module 'bang' has no attribute 'initialise_PBN'",
          "output_type": "error",
          "traceback": [
            "\u001b[0;31m---------------------------------------------------------------------------\u001b[0m",
            "\u001b[0;31mAttributeError\u001b[0m                            Traceback (most recent call last)",
            "\u001b[0;32m<ipython-input-9-87c4b14f360c>\u001b[0m in \u001b[0;36m<cell line: 1>\u001b[0;34m()\u001b[0m\n\u001b[0;32m----> 1\u001b[0;31m \u001b[0mbang\u001b[0m\u001b[0;34m.\u001b[0m\u001b[0minitialise_PBN\u001b[0m\u001b[0;34m(\u001b[0m\u001b[0mpbn\u001b[0m\u001b[0;34m)\u001b[0m\u001b[0;34m\u001b[0m\u001b[0;34m\u001b[0m\u001b[0m\n\u001b[0m",
            "\u001b[0;31mAttributeError\u001b[0m: module 'bang' has no attribute 'initialise_PBN'"
          ]
        }
      ],
      "source": [
        "bang.initialise_PBN(pbn)"
      ]
    },
    {
      "cell_type": "markdown",
      "metadata": {
        "id": "4_fb_59iE3wL"
      },
      "source": [
        "Now our Probabilistic Boolean Network is ready to be simulated on GPU! <br>\n",
        "We can run a simple test that runs five steps on multiple Networks at once and returns their states.\n",
        "WARNING: We need to be sure to have GPU supporting CUDA on our machine."
      ]
    },
    {
      "cell_type": "code",
      "execution_count": null,
      "metadata": {
        "id": "AGhyfW9rD-7T"
      },
      "outputs": [],
      "source": [
        "from numba import cuda\n",
        "\n",
        "#We make sure to have CUDA\n",
        "gpu_available = cuda.is_available()\n",
        "if not gpu_available:\n",
        "  print(\"Device with CUDA required!\")\n",
        "else:\n",
        "  bang.german_gpu_run()"
      ]
    },
    {
      "cell_type": "code",
      "execution_count": null,
      "metadata": {
        "colab": {
          "base_uri": "https://localhost:8080/",
          "height": 144
        },
        "id": "z8oVZyP6FWlX",
        "outputId": "1c3fca14-3716-43e9-abb9-855cba6a2d3a"
      },
      "outputs": [
        {
          "ename": "NameError",
          "evalue": "name 'gpu_available' is not defined",
          "output_type": "error",
          "traceback": [
            "\u001b[0;31m---------------------------------------------------------------------------\u001b[0m",
            "\u001b[0;31mNameError\u001b[0m                                 Traceback (most recent call last)",
            "\u001b[0;32m<ipython-input-2-9b01f6e05514>\u001b[0m in \u001b[0;36m<cell line: 1>\u001b[0;34m()\u001b[0m\n\u001b[0;32m----> 1\u001b[0;31m \u001b[0mgpu_available\u001b[0m\u001b[0;34m\u001b[0m\u001b[0;34m\u001b[0m\u001b[0m\n\u001b[0m",
            "\u001b[0;31mNameError\u001b[0m: name 'gpu_available' is not defined"
          ]
        }
      ],
      "source": []
    },
    {
      "cell_type": "code",
      "execution_count": null,
      "metadata": {
        "id": "-no-QDlbF6Fh"
      },
      "outputs": [],
      "source": []
    }
  ],
  "metadata": {
    "accelerator": "GPU",
    "colab": {
      "gpuType": "T4",
      "provenance": []
    },
    "kernelspec": {
      "display_name": "Python 3",
      "name": "python3"
    },
    "language_info": {
      "name": "python"
    }
  },
  "nbformat": 4,
  "nbformat_minor": 0
}