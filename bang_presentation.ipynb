{
 "cells": [
  {
   "cell_type": "markdown",
   "metadata": {
    "editable": true,
    "id": "X50stypjRZvu",
    "slideshow": {
     "slide_type": "slide"
    },
    "tags": []
   },
   "source": [
    "# BooleAn Networks on the GPU (BANG)"
   ]
  },
  {
   "cell_type": "code",
   "execution_count": null,
   "metadata": {
    "colab": {
     "base_uri": "https://localhost:8080/"
    },
    "editable": true,
    "id": "5udxao8g0znM",
    "outputId": "007c19fe-ca3a-470d-a047-91ab373bbf03",
    "slideshow": {
     "slide_type": "fragment"
    },
    "tags": []
   },
   "outputs": [],
   "source": [
    "!pip install bang-gpu\n",
    "# Project by:\n",
    "# Paweł Zając, Bartłomiej Parapura, Jan Jagodziński, Mikołaj Czarnecki\n",
    "# Commisioned by:\n",
    "# Jakub Zarzycki, Andrzej Mizera\n",
    "# Supervised by:\n",
    "# Robert Dąbrowski"
   ]
  },
  {
   "cell_type": "markdown",
   "metadata": {
    "editable": true,
    "id": "kvwfLLVOTdvr",
    "slideshow": {
     "slide_type": "slide"
    },
    "tags": []
   },
   "source": [
    "## (Probabilistic) Boolean Networks\n",
    "Probabilistic Boolean Networks are mathematical structures consisting of a set of Boolean variables as well as one or more functions corresponding to each variable and computing its state based on current values of variables.\n",
    "\n",
    "In the case of deterministic Boolean Networks, each variable has only one function which can depend on any other variable. In the case of Probabilistic Boolean Networks, each variable can have many functions, each of the functions having its associated probability of being chosen as the rule for the update.\n",
    "\n",
    "Eventually, after a finite amount of time steps the states of these Networks stabilize into just a few constantly recurring values - the sets of these values are called **attractors**.\n",
    "<div style=\"text-align: center;\">\n",
    "  <img src=\"notebook_files/img/title-pbn.png\" alt=\"gre\" width=\"600\"/>\n",
    "</div>"
   ]
  },
  {
   "cell_type": "markdown",
   "metadata": {
    "editable": true,
    "slideshow": {
     "slide_type": "slide"
    },
    "tags": []
   },
   "source": [
    "## Visualization of Boolean Networks\n",
    "\n",
    " The example on the left below shows a graph of the networks' nodes - if a node's value influenced another node (this means it's present in the node's function), then we draw an edge from the former to the latter.\n",
    "\n",
    " The example on the right shows a State Transition Diagram, which directly represent the evolution of the network in time. Given any state, we can trace where the network will end up by following all of its outgoing edges. In this particular example, we can see that there is a single attractor with states 000, 101 and 111."
   ]
  },
  {
   "cell_type": "markdown",
   "metadata": {
    "editable": true,
    "id": "-juDXsjEYNQm",
    "slideshow": {
     "slide_type": ""
    },
    "tags": []
   },
   "source": [
    "<div style=\"text-align: center\">\n",
    "<img src=\"./notebook_files/img/paper_dep_and_state_graph.png\" width=\"800\"/>\n",
    "</div>"
   ]
  },
  {
   "cell_type": "markdown",
   "metadata": {
    "editable": true,
    "id": "iboFaBQVXQdK",
    "slideshow": {
     "slide_type": "slide"
    },
    "tags": []
   },
   "source": [
    "## What are Probabilistic Boolean Networks used for?\n",
    "Probabilistic Boolean Networks in spite of a relatively simple structure allow to model behaviour of complex systems in discrete time series. One of the most often modelled objects are **gene regulatory networks**, used for modelling evolution of cell in a time period. Nodes of Boolean Networks correspond well to the genes of a cell and attractors are a great representation of final stages of cell evolution.\n"
   ]
  },
  {
   "cell_type": "markdown",
   "metadata": {
    "editable": true,
    "slideshow": {
     "slide_type": "subslide"
    },
    "tags": []
   },
   "source": [
    "\n",
    "The final stages could be stem cells or liver cells - knowledge of the attractors of the network can provide insight needed to turn one into the other by controlling which genes are active and which are not."
   ]
  },
  {
   "cell_type": "markdown",
   "metadata": {
    "editable": true,
    "slideshow": {
     "slide_type": "fragment"
    },
    "tags": []
   },
   "source": [
    "<div style=\"text-align: center\">\n",
    "<img src=\"./notebook_files/img/grn_highres.png\" width=\"400px\" height=\"400px\" />\n",
    "</div>\n",
    "Source: https://doi.org/10.3389/fncel.2014.00437"
   ]
  },
  {
   "cell_type": "markdown",
   "metadata": {
    "editable": true,
    "slideshow": {
     "slide_type": "slide"
    },
    "tags": []
   },
   "source": [
    "## Our contribution\n",
    "\n",
    "Previous software uses Java and doesn't provide enough features for analyzing long-term network behavior such as attractors. We propose a Python library that contains API for handling, manipulation and analysis of Probabilistic Boolean Networks on GPU.\n",
    "\n",
    "### Features to implement:\n",
    "- Loading and parsing of PBNs\n",
    "- Simulation of PBN traversal on GPU\n",
    "- Visualization\n",
    "- Attractor detection\n",
    "  - Block decomposition\n",
    "  - Monte Carlo"
   ]
  },
  {
   "cell_type": "markdown",
   "metadata": {
    "editable": true,
    "id": "5H_lKPItz_tY",
    "slideshow": {
     "slide_type": "slide"
    },
    "tags": []
   },
   "source": [
    "## Loading PBN from a file\n",
    "\n",
    "Our library can load files from Systems Biology Markup Language (*.sbml*) format which is an extension of XML and a standard for representing biological models. Alternatively, we can import files in .*pbn* format which was used in previous software modelling PBNs.\n",
    "\n"
   ]
  },
  {
   "cell_type": "markdown",
   "metadata": {
    "editable": true,
    "id": "ZhST3bXUDQJL",
    "slideshow": {
     "slide_type": "fragment"
    },
    "tags": []
   },
   "source": [
    "Now we can load Probabilistic Boolean Network from this file\n"
   ]
  },
  {
   "cell_type": "code",
   "execution_count": null,
   "metadata": {
    "editable": true,
    "id": "nQoctuKGCd0H",
    "slideshow": {
     "slide_type": ""
    },
    "tags": []
   },
   "outputs": [],
   "source": [
    "import bang\n",
    "\n",
    "pbn = bang.load_from_file(\"examples/example_network.pbn\", \"assa\")"
   ]
  },
  {
   "cell_type": "markdown",
   "metadata": {
    "editable": true,
    "slideshow": {
     "slide_type": "subslide"
    },
    "tags": []
   },
   "source": [
    "We can also load PBNs from popular sbml format:"
   ]
  },
  {
   "cell_type": "code",
   "execution_count": null,
   "metadata": {
    "editable": true,
    "slideshow": {
     "slide_type": ""
    },
    "tags": []
   },
   "outputs": [],
   "source": [
    "sbml_pbn = bang.load_from_file(\"examples/example-network.sbml\", \"sbml\")\n",
    "\n",
    "#source: \n",
    "#Giacomantonio CE, Goodhill GJ (2010) \n",
    "#A Boolean Model of the Gene Regulatory Network Underlying Mammalian Cortical Area Development. \n",
    "#PLOS Computational "
   ]
  },
  {
   "cell_type": "markdown",
   "metadata": {
    "editable": true,
    "id": "4_fb_59iE3wL",
    "slideshow": {
     "slide_type": "slide"
    },
    "tags": []
   },
   "source": [
    "## Simulation\n",
    "Our Probabilistic Boolean Network is ready to be simulated on GPU!\n",
    "\n",
    "We can run a simple test that concurrently runs 5 time steps on 512 networks at once and returns their final states. We can choose one of three update types: synchronous, asynchronous where we pick one node and asynchronous where we pick all nodes and choose order randomly."
   ]
  },
  {
   "cell_type": "code",
   "execution_count": null,
   "metadata": {
    "colab": {
     "base_uri": "https://localhost:8080/"
    },
    "editable": true,
    "id": "AGhyfW9rD-7T",
    "outputId": "9616f2ea-8d96-418c-b882-a11cec5c33d4",
    "slideshow": {
     "slide_type": ""
    },
    "tags": []
   },
   "outputs": [],
   "source": [
    "pbn.set_states([[True, True, True] for _ in range(512)], reset_history=True)\n",
    "pbn.simple_steps(4)\n",
    "\n",
    "for i in range(len(pbn.history_bool)):\n",
    "    print(pbn.history_bool[i][0])\n"
   ]
  },
  {
   "cell_type": "markdown",
   "metadata": {
    "editable": true,
    "id": "l8pDLhTXc7l4",
    "slideshow": {
     "slide_type": "fragment"
    },
    "tags": []
   },
   "source": [
    "As a result, we receive the history of 5 time steps for each trajectory."
   ]
  },
  {
   "cell_type": "markdown",
   "metadata": {
    "editable": true,
    "slideshow": {
     "slide_type": "slide"
    },
    "tags": []
   },
   "source": [
    "## Network visualization\n",
    "\n",
    "We provide tools for visualizing nodes of PBNs, trajectories and blocks.\n"
   ]
  },
  {
   "cell_type": "code",
   "execution_count": null,
   "metadata": {
    "editable": true,
    "slideshow": {
     "slide_type": "subslide"
    },
    "tags": []
   },
   "outputs": [],
   "source": [
    "pbn.dependency_graph('dependency_graph', 'pdf', number_from_one=True) #Visualization of nodes and their mutual dependencies"
   ]
  },
  {
   "cell_type": "code",
   "execution_count": null,
   "metadata": {
    "editable": true,
    "slideshow": {
     "slide_type": "subslide"
    },
    "tags": []
   },
   "outputs": [],
   "source": [
    "pbn.set_states([[True, True, True] for _ in range(512)], reset_history=True)\n",
    "pbn.simple_steps(4)\n",
    "\n",
    "for i in range(len(pbn.history_bool)):\n",
    "    print(pbn.history_bool[i][0])\n",
    "\n",
    "pbn.trajectory_graph(0, 'trajectory_binary_labels.svg', 'pdf') #Visualization of a given trajectory from simple_steps"
   ]
  },
  {
   "cell_type": "markdown",
   "metadata": {
    "editable": true,
    "id": "-LIU4qKl0SHr",
    "slideshow": {
     "slide_type": "slide"
    },
    "tags": []
   },
   "source": [
    "## Decomposition of a Boolean Network into blocks\n",
    "\n",
    "This is an example BN from the paper of dr Mizera, we will demonstrate library functionalities here.\n",
    "\n",
    "There are six variables, $x_1,...,x_6$ with their boolean functions given as:\n",
    "\n",
    "$$x_1: \\lnot(x_1 \\land x_2)$$\n",
    "\n",
    "$$x_2: x_1 \\land (\\lnot x_2)$$\n",
    "\n",
    "$$x_3:  \\lnot x_2$$\n",
    "\n",
    "$$x_4: (x_2 \\land x_3) \\lor x_5$$\n",
    "\n",
    "$$x_5: x_4 \\lor x_5$$\n",
    "\n",
    "$$x_6: \\lnot x_3 \\lor x_6$$"
   ]
  },
  {
   "cell_type": "markdown",
   "metadata": {
    "editable": true,
    "slideshow": {
     "slide_type": "subslide"
    },
    "tags": []
   },
   "source": [
    "In order to aid with efficient computation of attractors, a Boolean Network can be divided into *blocks*. A block is a concept defined on the dependencies between nodes, and it's closely related to the concept of a Strongly Connected Component. Every block is created by first dividing the network into SCCs, and then amending each SCC with the nodes which can influence it - that is, those that have in-edges to the SCC.\n",
    "\n",
    "Below is a visual representation of the concept - SCCs on the left, and corresponding blocks on the right.\n",
    "<div style=\"text-align: center;\">\n",
    "  <img src=\"./notebook_files/img/bn-mizera.png\" alt=\"bnmiz\" width=\"600\"/>\n",
    "</div>\n",
    "<span style=\"font-size:60%\">Source: \"A new decomposition-based method for detecting attractors in synchronous Boolean networks.\"\n",
    "Qixia Yuan, Andrzej Mizera, Jun Pang, and Hongyang Qu. Science of Computer Programming, 180:18-35, 2019. </span>"
   ]
  },
  {
   "cell_type": "markdown",
   "metadata": {
    "editable": true,
    "id": "ULDAlJFWdtsl",
    "slideshow": {
     "slide_type": "subslide"
    },
    "tags": []
   },
   "source": [
    "We will now showcase the functionality of decomposing the network into blocks on the exact Boolean Network shown in the image above."
   ]
  },
  {
   "cell_type": "code",
   "execution_count": null,
   "metadata": {
    "colab": {
     "base_uri": "https://localhost:8080/"
    },
    "editable": true,
    "id": "dusMz522h0A1",
    "outputId": "68c572dc-809e-49e9-9e27-29a7ac886c86",
    "slideshow": {
     "slide_type": ""
    },
    "tags": []
   },
   "outputs": [],
   "source": [
    "pbn = bang.load_from_file(\"examples/example.assa\", \"assa\")\n",
    "pbn.get_blocks()"
   ]
  },
  {
   "cell_type": "markdown",
   "metadata": {
    "editable": true,
    "id": "731m5VQQ4o4F",
    "slideshow": {
     "slide_type": "fragment"
    },
    "tags": []
   },
   "source": [
    "These blocks directly correspond to the example pictured above, we have three two-element blocks and one four-element block."
   ]
  },
  {
   "cell_type": "markdown",
   "metadata": {
    "editable": true,
    "slideshow": {
     "slide_type": "subslide"
    },
    "tags": []
   },
   "source": [
    "We also have an option to generate a graph that visualizes the block decomposition of the loaded network."
   ]
  },
  {
   "cell_type": "code",
   "execution_count": null,
   "metadata": {
    "editable": true,
    "slideshow": {
     "slide_type": "fragment"
    },
    "tags": []
   },
   "outputs": [],
   "source": [
    "pbn.block_graph('block_graph', 'pdf', number_from_one=True) #Visualization of blocks in the network"
   ]
  },
  {
   "cell_type": "markdown",
   "metadata": {
    "editable": true,
    "id": "Y5oeiKXm5PFg",
    "slideshow": {
     "slide_type": "slide"
    },
    "tags": []
   },
   "source": [
    "## Attractor detection\n",
    "\n",
    "We decompose Boolean Networks into smaller blocks with a subset of all nodes. Attractors computed on smaller blocks can be later combined to restore attractors of the original BN. In our library we implement algorithm from <br>\n",
    "\n",
    "\"*A new decomposition-based method for detecting attractors in synchronous Boolean networks.*\" <br>\n",
    "Qixia Yuan, Andrzej Mizera, Jun Pang, and Hongyang Qu. Science of Computer Programming, 180:18-35, 2019 <br>\n",
    "\n",
    "by parallelizing block attractor detection on CPU via threads and single-block attractor detection on GPU with the use of simple_steps."
   ]
  },
  {
   "cell_type": "markdown",
   "metadata": {
    "editable": true,
    "slideshow": {
     "slide_type": "subslide"
    },
    "tags": []
   },
   "source": [
    "We showcase finding attractors in example BN using our divide and conquer-like implementation for Network from above:\n",
    "<div style=\"text-align: center;\">\n",
    "  <img src=\"./notebook_files/img/bn-mizera.png\" alt=\"bnmiz\" width=\"500\"/>\n",
    "</div>"
   ]
  },
  {
   "cell_type": "code",
   "execution_count": null,
   "metadata": {
    "colab": {
     "base_uri": "https://localhost:8080/"
    },
    "editable": true,
    "id": "iSUC3ufwfDpZ",
    "outputId": "1ea051cf-477c-40f4-f6ac-c4e8eee4041b",
    "slideshow": {
     "slide_type": "subslide"
    },
    "tags": []
   },
   "outputs": [],
   "source": [
    "import bang\n",
    "\n",
    "example_bn = bang.PBN(\n",
    "    6,                                                                      #Number of nodes of PBN\n",
    "    [1, 1, 1, 1, 1, 1],                                                     #Number of Boolean functions per node\n",
    "    [2, 2, 1, 3, 2, 2],                                                     #Number of variables per boolean function\n",
    "    [                                                                       #Truth tables representing each function\n",
    "        [True, True, True, False],\n",
    "        [False, True, False, False],\n",
    "        [True, False],\n",
    "        [False, False, False, True, True, True, True, True],\n",
    "        [False, True, True, True],\n",
    "        [False, False, True, False],\n",
    "    ],\n",
    "    [[0, 1], [0, 1], [1], [1, 2, 4], [3, 4], [2, 5]],                       #Variables acting on each Boolean function\n",
    "    [[1.0], [1.0], [1.0], [1.0], [1.0], [1.0]],                             #Probability of picking each function for different nodes (always one since we have BN)\n",
    "    0.0,                                                                    #Probability of perturbation (0.0 since we have BN)\n",
    "    [7],                                                                    #Nodes for which we dont perform perturbation (irrelevant since we have BN)\n",
    "    update_type=\"synchronous\"                                               #BN updates synchronously. All nodes update at once.\n",
    ")\n",
    "\n",
    "attractors = example_bn.blocks_detect_attractors()\n",
    "\n",
    "for attractor in attractors:\n",
    "    print(attractor)"
   ]
  },
  {
   "cell_type": "markdown",
   "metadata": {
    "editable": true,
    "id": "jbBERZw3kw3f",
    "slideshow": {
     "slide_type": "slide"
    },
    "tags": []
   },
   "source": [
    "## Monte Carlo attractor detection\n",
    "\n",
    "In situations where simulating entire network is infeasible, especially for asynchronous networks, we can run Monte Carlo attractor detection. Our implementation utilizes fact that we can simulate PBN faster without saving trajectories. First we run long simple_step on multiple trajectories and afterwards we assume every state encountered now is a part of some attractor. We then run shorter simple_step with saving history and combine trajectories into separate attractors"
   ]
  },
  {
   "cell_type": "code",
   "execution_count": null,
   "metadata": {
    "editable": true,
    "slideshow": {
     "slide_type": "fragment"
    },
    "tags": []
   },
   "outputs": [],
   "source": [
    "import bang\n",
    "\n",
    "pbn = bang.load_from_file(\"examples/test2_no_perturbation.pbn\", \"assa\", n_parallel=7)\n",
    "\n",
    "attractors = pbn.monte_carlo_detect_attractors(trajectory_length=10000, attractor_length=100)\n",
    "\n",
    "for attractor in attractors:\n",
    "    print(attractor)"
   ]
  },
  {
   "cell_type": "code",
   "execution_count": null,
   "metadata": {
    "editable": true,
    "slideshow": {
     "slide_type": ""
    },
    "tags": []
   },
   "outputs": [],
   "source": [
    "#Block-based method returns the same attractors!\n",
    "attractors = pbn.blocks_detect_attractors() \n",
    "\n",
    "for attractor in attractors:\n",
    "    print(attractor)"
   ]
  },
  {
   "cell_type": "markdown",
   "metadata": {
    "editable": true,
    "slideshow": {
     "slide_type": "slide"
    },
    "tags": []
   },
   "source": [
    "## Benchmarks"
   ]
  },
  {
   "cell_type": "markdown",
   "metadata": {
    "editable": true,
    "slideshow": {
     "slide_type": ""
    },
    "tags": []
   },
   "source": [
    "We created a benchmarking suite to compare speed of PBN simulation on the GPU with a naive Python implementation and a CPU-based Numba-JIT implementation. Please note that the graph is in logarithmic scale.\n",
    "<div style=\"text-align: center;\">\n",
    "  <img src=\"./notebook_files/img/gpu_cpu_comparison.png\" alt=\"bnmiz\" width=\"700\"/>\n",
    "</div>"
   ]
  },
  {
   "cell_type": "markdown",
   "metadata": {
    "editable": true,
    "slideshow": {
     "slide_type": "subslide"
    },
    "tags": []
   },
   "source": [
    "As another benchmark, we checked if saving the current state at every step of GPU execution has an impact on performance.\n",
    "<div style=\"text-align: center;\">\n",
    "  <img src=\"./notebook_files/img/save_history_comp.png\" alt=\"bnmiz\" width=\"700\"/>\n",
    "</div>"
   ]
  },
  {
   "cell_type": "markdown",
   "metadata": {
    "editable": true,
    "slideshow": {
     "slide_type": "subslide"
    },
    "tags": []
   },
   "source": [
    "We also compared the GPU execution performance across update types.\n",
    "<div style=\"text-align: center;\">\n",
    "  <img src=\"./notebook_files/img/update_types_comp.png\" alt=\"bnmiz\" width=\"700\"/>\n",
    "</div>"
   ]
  },
  {
   "cell_type": "markdown",
   "metadata": {
    "editable": true,
    "slideshow": {
     "slide_type": "slide"
    },
    "tags": []
   },
   "source": [
    "### Conclusions"
   ]
  },
  {
   "cell_type": "markdown",
   "metadata": {
    "editable": true,
    "slideshow": {
     "slide_type": ""
    },
    "tags": []
   },
   "source": [
    "We created Python library for modelling Boolean Networks which implements: <br>\n",
    "- Network traversal with simple_step<br>\n",
    "- Network visualization<br>\n",
    "- Multiple methods of attractor detection<br>\n",
    "\n",
    "**Thank You!**"
   ]
  }
 ],
 "metadata": {
  "accelerator": "GPU",
  "colab": {
   "gpuType": "T4",
   "provenance": []
  },
  "kernelspec": {
   "display_name": "Python 3 (ipykernel)",
   "language": "python",
   "name": "python3"
  },
  "language_info": {
   "codemirror_mode": {
    "name": "ipython",
    "version": 3
   },
   "file_extension": ".py",
   "mimetype": "text/x-python",
   "name": "python",
   "nbconvert_exporter": "python",
   "pygments_lexer": "ipython3",
   "version": "3.12.8"
  }
 },
 "nbformat": 4,
 "nbformat_minor": 4
}
