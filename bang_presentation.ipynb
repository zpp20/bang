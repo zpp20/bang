{
 "cells": [
  {
   "cell_type": "markdown",
   "metadata": {
    "editable": true,
    "id": "X50stypjRZvu",
    "slideshow": {
     "slide_type": "slide"
    },
    "tags": []
   },
   "source": [
    "# BooleAn Networks on the GPU (BANG) - demonstration"
   ]
  },
  {
   "cell_type": "code",
   "execution_count": 1,
   "metadata": {
    "colab": {
     "base_uri": "https://localhost:8080/"
    },
    "editable": true,
    "id": "5udxao8g0znM",
    "outputId": "007c19fe-ca3a-470d-a047-91ab373bbf03",
    "slideshow": {
     "slide_type": "fragment"
    },
    "tags": []
   },
   "outputs": [
    {
     "name": "stdout",
     "output_type": "stream",
     "text": [
      "Processing /mnt/c/Users/mikolaj/Desktop/studia/bang\n",
      "  Installing build dependencies ... \u001b[?25ldone\n",
      "\u001b[?25h  Getting requirements to build wheel ... \u001b[?25ldone\n",
      "\u001b[?25h  Preparing metadata (pyproject.toml) ... \u001b[?25ldone\n",
      "\u001b[?25hRequirement already satisfied: python-libsbml==5.20.4 in /mnt/c/Users/mikolaj/Desktop/studia/zpp/wslenv/lib/python3.12/site-packages (from bang-gpu==0.1.0a4) (5.20.4)\n",
      "Requirement already satisfied: numba-cuda==0.4.0 in /mnt/c/Users/mikolaj/Desktop/studia/zpp/wslenv/lib/python3.12/site-packages (from bang-gpu==0.1.0a4) (0.4.0)\n",
      "Requirement already satisfied: numba==0.61.0 in /mnt/c/Users/mikolaj/Desktop/studia/zpp/wslenv/lib/python3.12/site-packages (from bang-gpu==0.1.0a4) (0.61.0)\n",
      "Requirement already satisfied: numpy==2.0.2 in /mnt/c/Users/mikolaj/Desktop/studia/zpp/wslenv/lib/python3.12/site-packages (from bang-gpu==0.1.0a4) (2.0.2)\n",
      "Requirement already satisfied: graphviz==0.20.3 in /mnt/c/Users/mikolaj/Desktop/studia/zpp/wslenv/lib/python3.12/site-packages (from bang-gpu==0.1.0a4) (0.20.3)\n",
      "Requirement already satisfied: llvmlite<0.45,>=0.44.0dev0 in /mnt/c/Users/mikolaj/Desktop/studia/zpp/wslenv/lib/python3.12/site-packages (from numba==0.61.0->bang-gpu==0.1.0a4) (0.44.0)\n",
      "Building wheels for collected packages: bang-gpu\n",
      "  Building wheel for bang-gpu (pyproject.toml) ... \u001b[?25ldone\n",
      "\u001b[?25h  Created wheel for bang-gpu: filename=bang_gpu-0.1.0a4-py3-none-any.whl size=41102 sha256=46ada6bf7e17a9cac31b612bd190b603eb9a4697faf00b1e0cecff7cea83e950\n",
      "  Stored in directory: /tmp/pip-ephem-wheel-cache-n7nrb69z/wheels/cf/93/02/9541d5f8c1bccbadad93174011f478ca7b3220491698839593\n",
      "Successfully built bang-gpu\n",
      "Installing collected packages: bang-gpu\n",
      "  Attempting uninstall: bang-gpu\n",
      "    Found existing installation: bang-gpu 0.1.0a4\n",
      "    Uninstalling bang-gpu-0.1.0a4:\n",
      "      Successfully uninstalled bang-gpu-0.1.0a4\n",
      "Successfully installed bang-gpu-0.1.0a4\n"
     ]
    }
   ],
   "source": [
    "# pip install -i https://test.pypi.org/simple/ --extra-index-url https://pypi.org/simple/ bang-gpu==0.1.0a4\n",
    "!pip install ."
   ]
  },
  {
   "cell_type": "markdown",
   "metadata": {
    "editable": true,
    "id": "kvwfLLVOTdvr",
    "slideshow": {
     "slide_type": "slide"
    },
    "tags": []
   },
   "source": [
    "## What is a (Probabilistic) Boolean Network?\n",
    "Probabilistic Boolean Networks are mathematical structures consisting of a set of Boolean variables as well as one or more functions corresponding to each variable and computing its state based on current values of variables.\n",
    "\n",
    "In the case of deterministic Boolean Networks, each variable has only one function which can depend on any other variable. In the case of Probabilistic Boolean Networks, each variable can have many functions, each of the functions having its associated probability of being chosen as the rule for the update.\n",
    "\n",
    "Eventually, after a finite amount of time steps the states of these Networks stabilize into just a few constantly recurring values - the sets of these values are called attractors."
   ]
  },
  {
   "cell_type": "markdown",
   "metadata": {
    "editable": true,
    "slideshow": {
     "slide_type": "slide"
    },
    "tags": []
   },
   "source": [
    "## Visualization of Boolean Networks\n",
    "\n",
    " The example on the left below shows a graph of the networks' nodes - if a node's value influenced another node (this means it's present in the node's function), then we draw an edge from the former to the latter.\n",
    "\n",
    " The example on the right shows a State Transition Diagram, which directly represent the evolution of the network in time. Given any state, we can trace where the network will end up by following all of its outgoing edges. In this particular example, we can see that there is a single attractor with states 000, 101 and 111."
   ]
  },
  {
   "cell_type": "markdown",
   "metadata": {
    "editable": true,
    "id": "-juDXsjEYNQm",
    "slideshow": {
     "slide_type": "fragment"
    },
    "tags": []
   },
   "source": [
    "![PBN example](data:image/png;base64,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)"
   ]
  },
  {
   "cell_type": "markdown",
   "metadata": {
    "editable": true,
    "id": "iboFaBQVXQdK",
    "slideshow": {
     "slide_type": "slide"
    },
    "tags": []
   },
   "source": [
    "## What are Probabilistic Boolean Networks used for?\n",
    "Probabilistic Boolean Networks in spite of a relatively simple structure allow to model behaviour of complex systems in discrete time series. One of the most often modelled objects are **Gene Regulatory Networks**, used for modelling evolution of cell in a time period. Nodes of Boolean Networks correspond well to the genes of a cell and attractors are a great representation of final stages of cell evolution.\n",
    "\n",
    "The final stages could be stem cells or liver cells - knowledge of the attractors of the network can provide insight needed to turn one into the other by controlling which genes are active and which are not.\n",
    "\n",
    "\n",
    "<div style=\"text-align: center;\">\n",
    "  <img src=\"notebook_files/img/complicated-gre.jpeg\" alt=\"gre\" width=\"600\"/>\n",
    "</div>"
   ]
  },
  {
   "cell_type": "markdown",
   "metadata": {
    "editable": true,
    "id": "5H_lKPItz_tY",
    "slideshow": {
     "slide_type": "slide"
    },
    "tags": []
   },
   "source": [
    "## Loading a network from a file\n",
    "\n",
    "Probabilistic Boolean Networks can be represented in an *.sbml* format which is an extension of XML and a standard for representing biological models. Alternatively, we can import files in .*pbn* format which was used in previous software modelling PBNs.\n",
    "\n",
    "We start by downloading a file which contains a simple PBN."
   ]
  },
  {
   "cell_type": "code",
   "execution_count": 2,
   "metadata": {
    "editable": true,
    "id": "6oCCmZ3aTdZ8",
    "slideshow": {
     "slide_type": "fragment"
    },
    "tags": []
   },
   "outputs": [],
   "source": [
    "import requests\n",
    "\n",
    "url = \"https://raw.githubusercontent.com/pavozayac/bang/refs/heads/main/notebook_files/files/test2.pbn\"\n",
    "\n",
    "response = requests.get(url)\n",
    "content = response.text\n",
    "\n",
    "with open(\"example_network.pbn\", \"w\") as file:\n",
    "    file.write(content)"
   ]
  },
  {
   "cell_type": "markdown",
   "metadata": {
    "editable": true,
    "id": "ZhST3bXUDQJL",
    "slideshow": {
     "slide_type": "subslide"
    },
    "tags": []
   },
   "source": [
    "Now we can load Probabilistic Boolean Network from this file\n"
   ]
  },
  {
   "cell_type": "code",
   "execution_count": 3,
   "metadata": {
    "editable": true,
    "id": "nQoctuKGCd0H",
    "slideshow": {
     "slide_type": "fragment"
    },
    "tags": []
   },
   "outputs": [],
   "source": [
    "import bang\n",
    "\n",
    "pbn = bang.load_from_file(\"example_network.pbn\", \"assa\")"
   ]
  },
  {
   "cell_type": "markdown",
   "metadata": {
    "editable": true,
    "id": "4_fb_59iE3wL",
    "slideshow": {
     "slide_type": "slide"
    },
    "tags": []
   },
   "source": [
    "## Simulation\n",
    "Our Probabilistic Boolean Network is ready to be simulated on GPU!\n",
    "\n",
    "We can run a simple test that concurrently runs five time steps on 512 networks at once and returns their final states."
   ]
  },
  {
   "cell_type": "code",
   "execution_count": 4,
   "metadata": {
    "colab": {
     "base_uri": "https://localhost:8080/"
    },
    "editable": true,
    "id": "AGhyfW9rD-7T",
    "outputId": "9616f2ea-8d96-418c-b882-a11cec5c33d4",
    "slideshow": {
     "slide_type": ""
    },
    "tags": []
   },
   "outputs": [
    {
     "name": "stderr",
     "output_type": "stream",
     "text": [
      "/mnt/c/Users/mikolaj/Desktop/studia/zpp/wslenv/lib/python3.12/site-packages/numba_cuda/numba/cuda/dispatcher.py:605: NumbaPerformanceWarning: Grid size 16 will likely result in GPU under-utilization due to low occupancy.\n",
      "  warn(NumbaPerformanceWarning(msg))\n"
     ]
    },
    {
     "name": "stdout",
     "output_type": "stream",
     "text": [
      "[[2]\n",
      " [3]\n",
      " [1]\n",
      " [0]\n",
      " [0]\n",
      " [0]\n",
      " [0]\n",
      " [5]\n",
      " [0]\n",
      " [2]]\n",
      "512\n"
     ]
    }
   ],
   "source": [
    "pbn.set_states([[False for _ in range(3)] for _ in range(512)])\n",
    "pbn.simple_steps(5)\n",
    "print(pbn.get_last_state()[:10])\n",
    "print(len(pbn.get_last_state()))"
   ]
  },
  {
   "cell_type": "markdown",
   "metadata": {
    "editable": true,
    "id": "l8pDLhTXc7l4",
    "slideshow": {
     "slide_type": ""
    },
    "tags": []
   },
   "source": [
    "As a result, we receive a sequence of 512 final states. Despite starting in the same initial state, the results differ across trajectories - this is because we are dealing with a Probabilistic Boolean Network. Additionally, there is a mechanism called perturbation, which can randomly switch node values - this can help explore more of the network."
   ]
  },
  {
   "cell_type": "markdown",
   "metadata": {
    "editable": true,
    "id": "-LIU4qKl0SHr",
    "slideshow": {
     "slide_type": "slide"
    },
    "tags": []
   },
   "source": [
    "## Decomposition of a Boolean Network into blocks\n",
    "\n",
    "This is an example BN from the paper of dr Mizera, we will demonstrate library functionalities here.\n",
    "\n",
    "There are six variables, $x_1,...,x_6$ with their boolean functions given as:\n",
    "\n",
    "$x_1: \\lnot(x_1 \\land x_2)$\n",
    "\n",
    "$x_2: x_1 \\land (\\lnot x_2)$\n",
    "\n",
    "$x_3:  \\lnot x_2$\n",
    "\n",
    "$x_4: (x_2 \\land x_3) \\lor x_5$\n",
    "\n",
    "$x_5: x_4 \\lor x_5$\n",
    "\n",
    "$x_6: \\lnot x_3 \\lor x_6$"
   ]
  },
  {
   "cell_type": "markdown",
   "metadata": {
    "editable": true,
    "slideshow": {
     "slide_type": "subslide"
    },
    "tags": []
   },
   "source": [
    "In order to aid with efficient computation of attractors, a Boolean Network can be divided into *blocks*. A block is a concept defined on the dependencies between nodes, and it's closely related to the concept of a Strongly Connected Component. Every block is created by first dividing the network into SCCs, and then amending each SCC with the nodes which can influence it - that is, those that have in-edges to the SCC.\n",
    "\n",
    "Below is a visual representation of the concept - SCCs on the left, and corresponding blocks on the right.\n",
    "<div style=\"text-align: center;\">\n",
    "  <img src=\"notebook_files/img/bn-mizera.png\" alt=\"bnmiz\" width=\"600\"/>\n",
    "</div>"
   ]
  },
  {
   "cell_type": "markdown",
   "metadata": {
    "editable": true,
    "id": "ULDAlJFWdtsl",
    "slideshow": {
     "slide_type": "subslide"
    },
    "tags": []
   },
   "source": [
    "We will now showcase the functionality of decomposing the network into blocks on the exact Boolean Network shown in the image above."
   ]
  },
  {
   "cell_type": "code",
   "execution_count": null,
   "metadata": {
    "editable": true,
    "id": "X1E-EWCChSJs",
    "slideshow": {
     "slide_type": "fragment"
    },
    "tags": []
   },
   "outputs": [],
   "source": [
    "import requests\n",
    "\n",
    "url = \"https://raw.githubusercontent.com/zpp20/bang/refs/heads/69-numba-version/examples/example.assa\"\n",
    "\n",
    "response = requests.get(url)\n",
    "content = response.text\n",
    "\n",
    "with open(\"example.assa\", \"w\") as file2:\n",
    "    file2.write(content)"
   ]
  },
  {
   "cell_type": "code",
   "execution_count": null,
   "metadata": {
    "colab": {
     "base_uri": "https://localhost:8080/"
    },
    "editable": true,
    "id": "dusMz522h0A1",
    "outputId": "68c572dc-809e-49e9-9e27-29a7ac886c86",
    "slideshow": {
     "slide_type": "fragment"
    },
    "tags": []
   },
   "outputs": [
    {
     "data": {
      "text/plain": [
       "[[0, 1], [1, 2], [1, 2, 3, 4], [2, 5]]"
      ]
     },
     "execution_count": 6,
     "metadata": {},
     "output_type": "execute_result"
    }
   ],
   "source": [
    "pbn = bang.load_from_file(\"example.assa\", \"assa\")\n",
    "bang.get_blocks(pbn)"
   ]
  },
  {
   "cell_type": "markdown",
   "metadata": {
    "editable": true,
    "id": "731m5VQQ4o4F",
    "slideshow": {
     "slide_type": "fragment"
    },
    "tags": []
   },
   "source": [
    "These blocks directly correspond to the example pictured above, we have three two-element blocks and one four-element block."
   ]
  },
  {
   "cell_type": "markdown",
   "metadata": {
    "editable": true,
    "id": "Y5oeiKXm5PFg",
    "slideshow": {
     "slide_type": ""
    },
    "tags": []
   },
   "source": [
    "## Attractor detection in elementary blocks"
   ]
  },
  {
   "cell_type": "code",
   "execution_count": null,
   "metadata": {
    "colab": {
     "base_uri": "https://localhost:8080/"
    },
    "editable": true,
    "id": "iSUC3ufwfDpZ",
    "outputId": "1ea051cf-477c-40f4-f6ac-c4e8eee4041b",
    "slideshow": {
     "slide_type": ""
    },
    "tags": []
   },
   "outputs": [
    {
     "name": "stdout",
     "output_type": "stream",
     "text": [
      "[[0]\n",
      " [1]\n",
      " [2]\n",
      " [3]]\n",
      "[2, 1]\n",
      "[2, 1]\n",
      "[0 2 0]\n",
      "[1 3 1]\n",
      "[2 0 2]\n",
      "[3 1 3]\n",
      "Detected attractors:  [[0, 2], [3, 1]]\n"
     ]
    },
    {
     "name": "stderr",
     "output_type": "stream",
     "text": [
      "/usr/local/lib/python3.11/dist-packages/numba_cuda/numba/cuda/dispatcher.py:605: NumbaPerformanceWarning: Grid size 1 will likely result in GPU under-utilization due to low occupancy.\n",
      "  warn(NumbaPerformanceWarning(msg))\n"
     ]
    }
   ],
   "source": [
    "n = 2\n",
    "nf = [1,1]\n",
    "nv = [1,1]\n",
    "F = [[False, True],[True, False]]\n",
    "varFInt = [[0],[1]]\n",
    "cij = [[1.],[1.]]\n",
    "perturbation = 0.\n",
    "npNode = [0,1,2]\n",
    "n_parallel = 4\n",
    "\n",
    "pbn = bang.PBN(n,nf,nv,F,varFInt,cij,perturbation,npNode,n_parallel)\n",
    "\n",
    "initial_states = [[False, False],[True, False], [False, True], [True, True]]\n",
    "\n",
    "attractor, history = pbn.detect_attractor(initial_states)\n",
    "\n",
    "# print(\"attractor states - \", attractor)\n",
    "\n",
    "# print(\"trajectories: \", history)\n",
    "\n",
    "print(\"Detected attractors: \", pbn.segment_attractor(attractor, history))"
   ]
  },
  {
   "cell_type": "code",
   "execution_count": null,
   "metadata": {
    "id": "jbBERZw3kw3f"
   },
   "outputs": [],
   "source": []
  }
 ],
 "metadata": {
  "accelerator": "GPU",
  "colab": {
   "gpuType": "T4",
   "provenance": []
  },
  "kernelspec": {
   "display_name": "Python 3 (ipykernel)",
   "language": "python",
   "name": "python3"
  },
  "language_info": {
   "codemirror_mode": {
    "name": "ipython",
    "version": 3
   },
   "file_extension": ".py",
   "mimetype": "text/x-python",
   "name": "python",
   "nbconvert_exporter": "python",
   "pygments_lexer": "ipython3",
   "version": "3.12.3"
  }
 },
 "nbformat": 4,
 "nbformat_minor": 4
}
