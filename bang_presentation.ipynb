{
 "cells": [
  {
   "cell_type": "markdown",
   "metadata": {
    "editable": true,
    "id": "X50stypjRZvu",
    "slideshow": {
     "slide_type": "slide"
    },
    "tags": []
   },
   "source": [
    "# BooleAn Networks on the GPU (BANG) - demonstration"
   ]
  },
  {
   "cell_type": "code",
   "execution_count": 4,
   "metadata": {
    "colab": {
     "base_uri": "https://localhost:8080/"
    },
    "editable": true,
    "id": "5udxao8g0znM",
    "outputId": "007c19fe-ca3a-470d-a047-91ab373bbf03",
    "slideshow": {
     "slide_type": "fragment"
    },
    "tags": []
   },
   "outputs": [
    {
     "name": "stdout",
     "output_type": "stream",
     "text": [
      "Processing /mnt/c/Users/mikolaj/Desktop/studia/bang\n",
      "  Installing build dependencies ... \u001b[?25ldone\n",
      "\u001b[?25h  Getting requirements to build wheel ... \u001b[?25ldone\n",
      "\u001b[?25h  Preparing metadata (pyproject.toml) ... \u001b[?25ldone\n",
      "\u001b[?25hCollecting python-libsbml==5.20.4 (from bang-gpu==0.4.0)\n",
      "  Downloading python_libsbml-5.20.4-cp312-cp312-manylinux_2_17_x86_64.manylinux2014_x86_64.whl.metadata (532 bytes)\n",
      "Collecting numba-cuda==0.4.0 (from bang-gpu==0.4.0)\n",
      "  Downloading numba_cuda-0.4.0-py3-none-any.whl.metadata (1.5 kB)\n",
      "Collecting numba==0.61.0 (from bang-gpu==0.4.0)\n",
      "  Downloading numba-0.61.0-cp312-cp312-manylinux2014_x86_64.manylinux_2_17_x86_64.whl.metadata (2.8 kB)\n",
      "Collecting numpy==2.0.2 (from bang-gpu==0.4.0)\n",
      "  Downloading numpy-2.0.2-cp312-cp312-manylinux_2_17_x86_64.manylinux2014_x86_64.whl.metadata (60 kB)\n",
      "Collecting graphviz==0.20.3 (from bang-gpu==0.4.0)\n",
      "  Downloading graphviz-0.20.3-py3-none-any.whl.metadata (12 kB)\n",
      "Collecting llvmlite<0.45,>=0.44.0dev0 (from numba==0.61.0->bang-gpu==0.4.0)\n",
      "  Downloading llvmlite-0.44.0-cp312-cp312-manylinux_2_17_x86_64.manylinux2014_x86_64.whl.metadata (5.0 kB)\n",
      "Downloading graphviz-0.20.3-py3-none-any.whl (47 kB)\n",
      "Downloading numba-0.61.0-cp312-cp312-manylinux2014_x86_64.manylinux_2_17_x86_64.whl (3.9 MB)\n",
      "\u001b[2K   \u001b[90m━━━━━━━━━━━━━━━━━━━━━━━━━━━━━━━━━━━━━━━━\u001b[0m \u001b[32m3.9/3.9 MB\u001b[0m \u001b[31m12.5 MB/s\u001b[0m eta \u001b[36m0:00:00\u001b[0ma \u001b[36m0:00:01\u001b[0m\n",
      "\u001b[?25hDownloading numba_cuda-0.4.0-py3-none-any.whl (453 kB)\n",
      "Downloading numpy-2.0.2-cp312-cp312-manylinux_2_17_x86_64.manylinux2014_x86_64.whl (19.2 MB)\n",
      "\u001b[2K   \u001b[90m━━━━━━━━━━━━━━━━━━━━━━━━━━━━━━━━━━━━━━━━\u001b[0m \u001b[32m19.2/19.2 MB\u001b[0m \u001b[31m3.0 MB/s\u001b[0m eta \u001b[36m0:00:00\u001b[0m00:01\u001b[0m00:01\u001b[0m\n",
      "\u001b[?25hDownloading python_libsbml-5.20.4-cp312-cp312-manylinux_2_17_x86_64.manylinux2014_x86_64.whl (8.0 MB)\n",
      "\u001b[2K   \u001b[90m━━━━━━━━━━━━━━━━━━━━━━━━━━━━━━━━━━━━━━━━\u001b[0m \u001b[32m8.0/8.0 MB\u001b[0m \u001b[31m1.0 MB/s\u001b[0m eta \u001b[36m0:00:00\u001b[0ma \u001b[36m0:00:01\u001b[0m0m\n",
      "\u001b[?25hDownloading llvmlite-0.44.0-cp312-cp312-manylinux_2_17_x86_64.manylinux2014_x86_64.whl (42.4 MB)\n",
      "\u001b[2K   \u001b[90m━━━━━━━━━━━━━━━━━━━━━━━━━━━━━━━━━━━━━━━━\u001b[0m \u001b[32m42.4/42.4 MB\u001b[0m \u001b[31m6.4 MB/s\u001b[0m eta \u001b[36m0:00:00\u001b[0ma \u001b[36m0:00:01\u001b[0m\n",
      "\u001b[?25hBuilding wheels for collected packages: bang-gpu\n",
      "  Building wheel for bang-gpu (pyproject.toml) ... \u001b[?25ldone\n",
      "\u001b[?25h  Created wheel for bang-gpu: filename=bang_gpu-0.4.0-py3-none-any.whl size=76037 sha256=f27e8cd3cad14fa455d93ad765d41e814449e7a7332c001447a52f134ec830ae\n",
      "  Stored in directory: /tmp/pip-ephem-wheel-cache-c8gmuhiq/wheels/cf/93/02/9541d5f8c1bccbadad93174011f478ca7b3220491698839593\n",
      "Successfully built bang-gpu\n",
      "Installing collected packages: python-libsbml, numpy, llvmlite, graphviz, numba, numba-cuda, bang-gpu\n",
      "  Attempting uninstall: python-libsbml\n",
      "    Found existing installation: python-libsbml 5.20.4\n",
      "    Uninstalling python-libsbml-5.20.4:\n",
      "      Successfully uninstalled python-libsbml-5.20.4\n",
      "  Attempting uninstall: numpy\n",
      "    Found existing installation: numpy 2.0.2\n",
      "    Uninstalling numpy-2.0.2:\n",
      "      Successfully uninstalled numpy-2.0.2\n",
      "  Attempting uninstall: llvmlite\n",
      "    Found existing installation: llvmlite 0.44.0\n",
      "    Uninstalling llvmlite-0.44.0:\n",
      "      Successfully uninstalled llvmlite-0.44.0\n",
      "  Attempting uninstall: graphviz\n",
      "    Found existing installation: graphviz 0.20.3\n",
      "    Uninstalling graphviz-0.20.3:\n",
      "      Successfully uninstalled graphviz-0.20.3\n",
      "  Attempting uninstall: numba\n",
      "    Found existing installation: numba 0.61.0\n",
      "    Uninstalling numba-0.61.0:\n",
      "      Successfully uninstalled numba-0.61.0\n",
      "  Attempting uninstall: numba-cuda\n",
      "    Found existing installation: numba-cuda 0.4.0\n",
      "    Uninstalling numba-cuda-0.4.0:\n",
      "      Successfully uninstalled numba-cuda-0.4.0\n",
      "  Attempting uninstall: bang-gpu\n",
      "    Found existing installation: bang-gpu 0.4.0\n",
      "    Uninstalling bang-gpu-0.4.0:\n",
      "      Successfully uninstalled bang-gpu-0.4.0\n",
      "Successfully installed bang-gpu-0.4.0 graphviz-0.20.3 llvmlite-0.44.0 numba-0.61.0 numba-cuda-0.4.0 numpy-2.0.2 python-libsbml-5.20.4\n",
      "\n",
      "\u001b[1m[\u001b[0m\u001b[34;49mnotice\u001b[0m\u001b[1;39;49m]\u001b[0m\u001b[39;49m A new release of pip is available: \u001b[0m\u001b[31;49m25.0.1\u001b[0m\u001b[39;49m -> \u001b[0m\u001b[32;49m25.1.1\u001b[0m\n",
      "\u001b[1m[\u001b[0m\u001b[34;49mnotice\u001b[0m\u001b[1;39;49m]\u001b[0m\u001b[39;49m To update, run: \u001b[0m\u001b[32;49mpip install --upgrade pip\u001b[0m\n"
     ]
    }
   ],
   "source": [
    "# pip install -i https://test.pypi.org/simple/ --extra-index-url https://pypi.org/simple/ bang-gpu==0.1.0a4\n",
    "!pip install --no-cache-dir --force-reinstall .\n",
    "# Project by:\n",
    "# Paweł Zając, Bartłomiej Parapura, Jan Jagodziński, Mikołaj Czarnecki\n",
    "# Commisioned by:\n",
    "# Jakub Zarzycki, Andrzej Mizera"
   ]
  },
  {
   "cell_type": "markdown",
   "metadata": {
    "editable": true,
    "id": "kvwfLLVOTdvr",
    "slideshow": {
     "slide_type": "slide"
    },
    "tags": []
   },
   "source": [
    "## (Probabilistic) Boolean Networks\n",
    "Probabilistic Boolean Networks are mathematical structures consisting of a set of Boolean variables as well as one or more functions corresponding to each variable and computing its state based on current values of variables.\n",
    "\n",
    "In the case of deterministic Boolean Networks, each variable has only one function which can depend on any other variable. In the case of Probabilistic Boolean Networks, each variable can have many functions, each of the functions having its associated probability of being chosen as the rule for the update.\n",
    "\n",
    "Eventually, after a finite amount of time steps the states of these Networks stabilize into just a few constantly recurring values - the sets of these values are called **attractors**."
   ]
  },
  {
   "cell_type": "markdown",
   "metadata": {
    "editable": true,
    "slideshow": {
     "slide_type": "slide"
    },
    "tags": []
   },
   "source": [
    "## Visualization of Boolean Networks\n",
    "\n",
    " The example on the left below shows a graph of the networks' nodes - if a node's value influenced another node (this means it's present in the node's function), then we draw an edge from the former to the latter.\n",
    "\n",
    " The example on the right shows a State Transition Diagram, which directly represent the evolution of the network in time. Given any state, we can trace where the network will end up by following all of its outgoing edges. In this particular example, we can see that there is a single attractor with states 000, 101 and 111."
   ]
  },
  {
   "cell_type": "markdown",
   "metadata": {
    "editable": true,
    "id": "-juDXsjEYNQm",
    "slideshow": {
     "slide_type": "fragment"
    },
    "tags": []
   },
   "source": [
    "![PBN example](data:image/png;base64,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)"
   ]
  },
  {
   "cell_type": "markdown",
   "metadata": {
    "editable": true,
    "id": "iboFaBQVXQdK",
    "slideshow": {
     "slide_type": "slide"
    },
    "tags": []
   },
   "source": [
    "## What are Probabilistic Boolean Networks used for?\n",
    "Probabilistic Boolean Networks in spite of a relatively simple structure allow to model behaviour of complex systems in discrete time series. One of the most often modelled objects are **Gene Regulatory Networks**, used for modelling evolution of cell in a time period. Nodes of Boolean Networks correspond well to the genes of a cell and attractors are a great representation of final stages of cell evolution.\n",
    "\n",
    "The final stages could be stem cells or liver cells - knowledge of the attractors of the network can provide insight needed to turn one into the other by controlling which genes are active and which are not.\n",
    "\n",
    "\n",
    "<div style=\"text-align: center;\">\n",
    "  <img src=\"https://upload.wikimedia.org/wikipedia/commons/d/dc/DG_Network_in_Hybrid_Rice.png\" alt=\"gre\" width=\"600\"/>\n",
    "</div>\n",
    "Source: http://openi.nlm.nih.gov"
   ]
  },
  {
   "cell_type": "markdown",
   "metadata": {},
   "source": [
    "## Our contribution\n",
    "\n",
    "Previous software uses Java and doesn't provide enough features for analyzing long-term network behavior such as attractors. We propose a Python library that contains API for handling, manipulation and analysis of Probabilistic Boolean Networks on GPU.\n",
    "\n",
    "### Features to implement:\n",
    "- Loading and parsing of PBNs\n",
    "- Simulation of PBN traversal on GPU\n",
    "- Visualization\n",
    "- Attractor detection\n",
    "  - Block decomposition\n",
    "  - Monte carlo"
   ]
  },
  {
   "cell_type": "markdown",
   "metadata": {
    "editable": true,
    "id": "5H_lKPItz_tY",
    "slideshow": {
     "slide_type": "slide"
    },
    "tags": []
   },
   "source": [
    "## Loading PBN from a file\n",
    "\n",
    "Our library can load files from Systems Biology Markup Language (*.sbml*) format which is an extension of XML and a standard for representing biological models. Alternatively, we can import files in .*pbn* format which was used in previous software modelling PBNs.\n",
    "\n",
    "We start by downloading a file which contains a simple PBN."
   ]
  },
  {
   "cell_type": "code",
   "execution_count": 2,
   "metadata": {
    "editable": true,
    "id": "6oCCmZ3aTdZ8",
    "slideshow": {
     "slide_type": "fragment"
    },
    "tags": []
   },
   "outputs": [],
   "source": [
    "import requests\n",
    "\n",
    "url = \"https://raw.githubusercontent.com/pavozayac/bang/refs/heads/main/notebook_files/files/test2.pbn\"\n",
    "\n",
    "response = requests.get(url)\n",
    "content = response.text\n",
    "\n",
    "with open(\"example_network.pbn\", \"w\") as file:\n",
    "    file.write(content)"
   ]
  },
  {
   "cell_type": "markdown",
   "metadata": {
    "editable": true,
    "id": "ZhST3bXUDQJL",
    "slideshow": {
     "slide_type": "subslide"
    },
    "tags": []
   },
   "source": [
    "Now we can load Probabilistic Boolean Network from this file\n"
   ]
  },
  {
   "cell_type": "code",
   "execution_count": 3,
   "metadata": {
    "editable": true,
    "id": "nQoctuKGCd0H",
    "slideshow": {
     "slide_type": "fragment"
    },
    "tags": []
   },
   "outputs": [],
   "source": [
    "import bang\n",
    "\n",
    "pbn = bang.load_from_file(\"example_network.pbn\", \"assa\")"
   ]
  },
  {
   "cell_type": "markdown",
   "metadata": {
    "editable": true,
    "id": "4_fb_59iE3wL",
    "slideshow": {
     "slide_type": "slide"
    },
    "tags": []
   },
   "source": [
    "## Simulation\n",
    "Our Probabilistic Boolean Network is ready to be simulated on GPU!\n",
    "\n",
    "We can run a simple test that concurrently runs five time steps on 512 networks at once and returns their final states."
   ]
  },
  {
   "cell_type": "code",
   "execution_count": 4,
   "metadata": {
    "colab": {
     "base_uri": "https://localhost:8080/"
    },
    "editable": true,
    "id": "AGhyfW9rD-7T",
    "outputId": "9616f2ea-8d96-418c-b882-a11cec5c33d4",
    "slideshow": {
     "slide_type": ""
    },
    "tags": []
   },
   "outputs": [
    {
     "name": "stdout",
     "output_type": "stream",
     "text": [
      "WARNING! CUDA is not available, falling back to CPU simulation\n",
      "[[[False, False, False]], [[False, False, False]], [[False, False, False]], [[False, False, False]], [[False, True, False]], [[False, True, False]], [[False, True, True]], [[False, True, True]], [[True, True, True]], [[False, True, True]], [[False, True, True]]]\n"
     ]
    }
   ],
   "source": [
    "pbn.set_states([[False for _ in range(3)] for _ in range(512)], reset_history=True)\n",
    "pbn.simple_steps(10)\n",
    "print([pbn.history_bool[i][0] for i in range(len(pbn.history_bool))])"
   ]
  },
  {
   "cell_type": "code",
   "execution_count": 5,
   "metadata": {},
   "outputs": [
    {
     "data": {
      "text/plain": [
       "11"
      ]
     },
     "execution_count": 5,
     "metadata": {},
     "output_type": "execute_result"
    }
   ],
   "source": [
    "len(pbn.history_bool)"
   ]
  },
  {
   "cell_type": "code",
   "execution_count": null,
   "metadata": {},
   "outputs": [],
   "source": []
  },
  {
   "cell_type": "markdown",
   "metadata": {
    "editable": true,
    "id": "l8pDLhTXc7l4",
    "slideshow": {
     "slide_type": ""
    },
    "tags": []
   },
   "source": [
    "As a result, we receive a sequence of 512 final states. Despite starting in the same initial state, the results differ across trajectories - this is because we are dealing with a Probabilistic Boolean Network. Additionally, there is a mechanism called perturbation, which can randomly switch node values - this can help explore more of the network."
   ]
  },
  {
   "cell_type": "markdown",
   "metadata": {},
   "source": [
    "## Network visualization\n",
    "\n",
    "We provide tools for visualizing nodes of PBNs, trajectories and blocks.\n"
   ]
  },
  {
   "cell_type": "code",
   "execution_count": 6,
   "metadata": {},
   "outputs": [
    {
     "data": {
      "image/svg+xml": [
       "<?xml version=\"1.0\" encoding=\"UTF-8\" standalone=\"no\"?>\n",
       "<!DOCTYPE svg PUBLIC \"-//W3C//DTD SVG 1.1//EN\"\n",
       " \"http://www.w3.org/Graphics/SVG/1.1/DTD/svg11.dtd\">\n",
       "<!-- Generated by graphviz version 2.43.0 (0)\n",
       " -->\n",
       "<!-- Title: %3 Pages: 1 -->\n",
       "<svg width=\"75pt\" height=\"188pt\"\n",
       " viewBox=\"0.00 0.00 75.14 188.00\" xmlns=\"http://www.w3.org/2000/svg\" xmlns:xlink=\"http://www.w3.org/1999/xlink\">\n",
       "<g id=\"graph0\" class=\"graph\" transform=\"scale(1 1) rotate(0) translate(4 184)\">\n",
       "<title>%3</title>\n",
       "<polygon fill=\"white\" stroke=\"transparent\" points=\"-4,4 -4,-184 71.14,-184 71.14,4 -4,4\"/>\n",
       "<!-- 0 -->\n",
       "<g id=\"node1\" class=\"node\">\n",
       "<title>0</title>\n",
       "<ellipse fill=\"none\" stroke=\"black\" cx=\"18\" cy=\"-162\" rx=\"18\" ry=\"18\"/>\n",
       "<text text-anchor=\"middle\" x=\"18\" y=\"-158.3\" font-family=\"Times,serif\" font-size=\"14.00\">0</text>\n",
       "</g>\n",
       "<!-- 0&#45;&gt;0 -->\n",
       "<g id=\"edge1\" class=\"edge\">\n",
       "<title>0&#45;&gt;0</title>\n",
       "<path fill=\"none\" stroke=\"black\" d=\"M32.04,-173.76C42.91,-178.15 54,-174.23 54,-162 54,-153.59 48.76,-149.11 41.95,-148.56\"/>\n",
       "<polygon fill=\"black\" stroke=\"black\" points=\"41.31,-145.12 32.04,-150.24 42.49,-152.02 41.31,-145.12\"/>\n",
       "</g>\n",
       "<!-- 1 -->\n",
       "<g id=\"node2\" class=\"node\">\n",
       "<title>1</title>\n",
       "<ellipse fill=\"none\" stroke=\"black\" cx=\"18\" cy=\"-90\" rx=\"18\" ry=\"18\"/>\n",
       "<text text-anchor=\"middle\" x=\"18\" y=\"-86.3\" font-family=\"Times,serif\" font-size=\"14.00\">1</text>\n",
       "</g>\n",
       "<!-- 0&#45;&gt;1 -->\n",
       "<g id=\"edge3\" class=\"edge\">\n",
       "<title>0&#45;&gt;1</title>\n",
       "<path fill=\"none\" stroke=\"black\" d=\"M12.2,-144.76C11.29,-136.64 11.03,-126.59 11.43,-117.39\"/>\n",
       "<polygon fill=\"black\" stroke=\"black\" points=\"14.95,-117.38 12.21,-107.15 7.97,-116.86 14.95,-117.38\"/>\n",
       "</g>\n",
       "<!-- 2 -->\n",
       "<g id=\"node3\" class=\"node\">\n",
       "<title>2</title>\n",
       "<ellipse fill=\"none\" stroke=\"black\" cx=\"18\" cy=\"-18\" rx=\"18\" ry=\"18\"/>\n",
       "<text text-anchor=\"middle\" x=\"18\" y=\"-14.3\" font-family=\"Times,serif\" font-size=\"14.00\">2</text>\n",
       "</g>\n",
       "<!-- 0&#45;&gt;2 -->\n",
       "<g id=\"edge6\" class=\"edge\">\n",
       "<title>0&#45;&gt;2</title>\n",
       "<path fill=\"none\" stroke=\"black\" d=\"M31.55,-150.01C42.38,-140.27 56.76,-125 63,-108 68.52,-92.98 68.52,-87.02 63,-72 58.12,-58.72 48.28,-46.49 39.04,-37.14\"/>\n",
       "<polygon fill=\"black\" stroke=\"black\" points=\"41.2,-34.36 31.55,-29.99 36.37,-39.43 41.2,-34.36\"/>\n",
       "</g>\n",
       "<!-- 1&#45;&gt;0 -->\n",
       "<g id=\"edge2\" class=\"edge\">\n",
       "<title>1&#45;&gt;0</title>\n",
       "<path fill=\"none\" stroke=\"black\" d=\"M23.79,-107.15C24.71,-115.26 24.97,-125.3 24.57,-134.51\"/>\n",
       "<polygon fill=\"black\" stroke=\"black\" points=\"21.06,-134.53 23.8,-144.76 28.04,-135.05 21.06,-134.53\"/>\n",
       "</g>\n",
       "<!-- 1&#45;&gt;1 -->\n",
       "<g id=\"edge4\" class=\"edge\">\n",
       "<title>1&#45;&gt;1</title>\n",
       "<path fill=\"none\" stroke=\"black\" d=\"M32.04,-101.76C42.91,-106.15 54,-102.23 54,-90 54,-81.59 48.76,-77.11 41.95,-76.56\"/>\n",
       "<polygon fill=\"black\" stroke=\"black\" points=\"41.31,-73.12 32.04,-78.24 42.49,-80.02 41.31,-73.12\"/>\n",
       "</g>\n",
       "<!-- 1&#45;&gt;2 -->\n",
       "<g id=\"edge7\" class=\"edge\">\n",
       "<title>1&#45;&gt;2</title>\n",
       "<path fill=\"none\" stroke=\"black\" d=\"M12.2,-72.76C11.29,-64.64 11.03,-54.59 11.43,-45.39\"/>\n",
       "<polygon fill=\"black\" stroke=\"black\" points=\"14.95,-45.38 12.21,-35.15 7.97,-44.86 14.95,-45.38\"/>\n",
       "</g>\n",
       "<!-- 2&#45;&gt;1 -->\n",
       "<g id=\"edge5\" class=\"edge\">\n",
       "<title>2&#45;&gt;1</title>\n",
       "<path fill=\"none\" stroke=\"black\" d=\"M23.79,-35.15C24.71,-43.26 24.97,-53.3 24.57,-62.51\"/>\n",
       "<polygon fill=\"black\" stroke=\"black\" points=\"21.06,-62.53 23.8,-72.76 28.04,-63.05 21.06,-62.53\"/>\n",
       "</g>\n",
       "<!-- 2&#45;&gt;2 -->\n",
       "<g id=\"edge8\" class=\"edge\">\n",
       "<title>2&#45;&gt;2</title>\n",
       "<path fill=\"none\" stroke=\"black\" d=\"M32.04,-29.76C42.91,-34.15 54,-30.23 54,-18 54,-9.59 48.76,-5.11 41.95,-4.56\"/>\n",
       "<polygon fill=\"black\" stroke=\"black\" points=\"41.31,-1.12 32.04,-6.24 42.49,-8.02 41.31,-1.12\"/>\n",
       "</g>\n",
       "</g>\n",
       "</svg>\n"
      ],
      "text/plain": [
       "<graphviz.graphs.Digraph at 0x75b58b72ff80>"
      ]
     },
     "execution_count": 6,
     "metadata": {},
     "output_type": "execute_result"
    }
   ],
   "source": [
    "pbn.dependency_graph() #Visualization of nodes and their mutual dependencies"
   ]
  },
  {
   "cell_type": "code",
   "execution_count": 7,
   "metadata": {},
   "outputs": [
    {
     "data": {
      "image/svg+xml": [
       "<?xml version=\"1.0\" encoding=\"UTF-8\" standalone=\"no\"?>\n",
       "<!DOCTYPE svg PUBLIC \"-//W3C//DTD SVG 1.1//EN\"\n",
       " \"http://www.w3.org/Graphics/SVG/1.1/DTD/svg11.dtd\">\n",
       "<!-- Generated by graphviz version 2.43.0 (0)\n",
       " -->\n",
       "<!-- Title: %3 Pages: 1 -->\n",
       "<svg width=\"138pt\" height=\"220pt\"\n",
       " viewBox=\"0.00 0.00 137.80 220.39\" xmlns=\"http://www.w3.org/2000/svg\" xmlns:xlink=\"http://www.w3.org/1999/xlink\">\n",
       "<g id=\"graph0\" class=\"graph\" transform=\"scale(1 1) rotate(0) translate(4 216.39)\">\n",
       "<title>%3</title>\n",
       "<polygon fill=\"white\" stroke=\"transparent\" points=\"-4,4 -4,-216.39 133.8,-216.39 133.8,4 -4,4\"/>\n",
       "<!-- [0] -->\n",
       "<g id=\"node1\" class=\"node\">\n",
       "<title>[0]</title>\n",
       "<ellipse fill=\"none\" stroke=\"black\" cx=\"23.4\" cy=\"-188.99\" rx=\"23.3\" ry=\"23.3\"/>\n",
       "<text text-anchor=\"middle\" x=\"23.4\" y=\"-185.29\" font-family=\"Times,serif\" font-size=\"14.00\">[0]</text>\n",
       "</g>\n",
       "<!-- [0]&#45;&gt;[0] -->\n",
       "<g id=\"edge1\" class=\"edge\">\n",
       "<title>[0]&#45;&gt;[0]</title>\n",
       "<path fill=\"none\" stroke=\"black\" d=\"M42.13,-203.28C53.74,-206.73 64.8,-201.96 64.8,-188.99 64.8,-177.94 56.78,-172.85 47.23,-173.71\"/>\n",
       "<polygon fill=\"black\" stroke=\"black\" points=\"46.7,-172.03 42.13,-174.7 47.37,-175.46 46.7,-172.03\"/>\n",
       "</g>\n",
       "<!-- [1] -->\n",
       "<g id=\"node2\" class=\"node\">\n",
       "<title>[1]</title>\n",
       "<ellipse fill=\"none\" stroke=\"black\" cx=\"23.4\" cy=\"-106.19\" rx=\"23.3\" ry=\"23.3\"/>\n",
       "<text text-anchor=\"middle\" x=\"23.4\" y=\"-102.49\" font-family=\"Times,serif\" font-size=\"14.00\">[1]</text>\n",
       "</g>\n",
       "<!-- [0]&#45;&gt;[1] -->\n",
       "<g id=\"edge2\" class=\"edge\">\n",
       "<title>[0]&#45;&gt;[1]</title>\n",
       "<path fill=\"none\" stroke=\"black\" d=\"M17.34,-166.34C16.55,-156.38 16.44,-144.46 17,-133.94\"/>\n",
       "<polygon fill=\"black\" stroke=\"black\" points=\"18.75,-134.01 17.34,-128.91 15.26,-133.78 18.75,-134.01\"/>\n",
       "</g>\n",
       "<!-- [3] -->\n",
       "<g id=\"node3\" class=\"node\">\n",
       "<title>[3]</title>\n",
       "<ellipse fill=\"none\" stroke=\"black\" cx=\"88.4\" cy=\"-106.19\" rx=\"23.3\" ry=\"23.3\"/>\n",
       "<text text-anchor=\"middle\" x=\"88.4\" y=\"-102.49\" font-family=\"Times,serif\" font-size=\"14.00\">[3]</text>\n",
       "</g>\n",
       "<!-- [0]&#45;&gt;[3] -->\n",
       "<g id=\"edge4\" class=\"edge\">\n",
       "<title>[0]&#45;&gt;[3]</title>\n",
       "<path fill=\"none\" stroke=\"black\" d=\"M37.82,-170.06C47.5,-158.03 60.31,-142.1 70.62,-129.29\"/>\n",
       "<polygon fill=\"black\" stroke=\"black\" points=\"72.24,-130.07 74.01,-125.07 69.51,-127.87 72.24,-130.07\"/>\n",
       "</g>\n",
       "<!-- [1]&#45;&gt;[0] -->\n",
       "<g id=\"edge3\" class=\"edge\">\n",
       "<title>[1]&#45;&gt;[0]</title>\n",
       "<path fill=\"none\" stroke=\"black\" d=\"M29.46,-128.91C30.25,-138.88 30.36,-150.79 29.79,-161.3\"/>\n",
       "<polygon fill=\"black\" stroke=\"black\" points=\"28.04,-161.23 29.46,-166.34 31.53,-161.46 28.04,-161.23\"/>\n",
       "</g>\n",
       "<!-- [2] -->\n",
       "<g id=\"node4\" class=\"node\">\n",
       "<title>[2]</title>\n",
       "<ellipse fill=\"none\" stroke=\"black\" cx=\"88.4\" cy=\"-23.4\" rx=\"23.3\" ry=\"23.3\"/>\n",
       "<text text-anchor=\"middle\" x=\"88.4\" y=\"-19.7\" font-family=\"Times,serif\" font-size=\"14.00\">[2]</text>\n",
       "</g>\n",
       "<!-- [3]&#45;&gt;[2] -->\n",
       "<g id=\"edge5\" class=\"edge\">\n",
       "<title>[3]&#45;&gt;[2]</title>\n",
       "<path fill=\"none\" stroke=\"black\" d=\"M88.4,-82.69C88.4,-73.22 88.4,-62.12 88.4,-52.16\"/>\n",
       "<polygon fill=\"black\" stroke=\"black\" points=\"90.15,-52.06 88.4,-47.06 86.65,-52.06 90.15,-52.06\"/>\n",
       "</g>\n",
       "<!-- [2]&#45;&gt;[2] -->\n",
       "<g id=\"edge6\" class=\"edge\">\n",
       "<title>[2]&#45;&gt;[2]</title>\n",
       "<path fill=\"none\" stroke=\"black\" d=\"M107.13,-37.69C118.74,-41.13 129.8,-36.37 129.8,-23.4 129.8,-12.35 121.78,-7.26 112.23,-8.12\"/>\n",
       "<polygon fill=\"black\" stroke=\"black\" points=\"111.7,-6.44 107.13,-9.11 112.37,-9.87 111.7,-6.44\"/>\n",
       "</g>\n",
       "</g>\n",
       "</svg>\n"
      ],
      "text/plain": [
       "<graphviz.graphs.Digraph at 0x75b58b72de50>"
      ]
     },
     "execution_count": 7,
     "metadata": {},
     "output_type": "execute_result"
    }
   ],
   "source": [
    "pbn.trajectory_graph(0) #Visualization of a given trajectory from simple_steps"
   ]
  },
  {
   "cell_type": "markdown",
   "metadata": {
    "editable": true,
    "id": "-LIU4qKl0SHr",
    "slideshow": {
     "slide_type": "slide"
    },
    "tags": []
   },
   "source": [
    "## Decomposition of a Boolean Network into blocks\n",
    "\n",
    "This is an example BN from the paper of dr Mizera, we will demonstrate library functionalities here.\n",
    "\n",
    "There are six variables, $x_1,...,x_6$ with their boolean functions given as:\n",
    "\n",
    "$$x_1: \\lnot(x_1 \\land x_2)$$\n",
    "\n",
    "$$x_2: x_1 \\land (\\lnot x_2)$$\n",
    "\n",
    "$$x_3:  \\lnot x_2$$\n",
    "\n",
    "$$x_4: (x_2 \\land x_3) \\lor x_5$$\n",
    "\n",
    "$$x_5: x_4 \\lor x_5$$\n",
    "\n",
    "$$x_6: \\lnot x_3 \\lor x_6$$"
   ]
  },
  {
   "cell_type": "markdown",
   "metadata": {
    "editable": true,
    "slideshow": {
     "slide_type": "subslide"
    },
    "tags": []
   },
   "source": [
    "In order to aid with efficient computation of attractors, a Boolean Network can be divided into *blocks*. A block is a concept defined on the dependencies between nodes, and it's closely related to the concept of a Strongly Connected Component. Every block is created by first dividing the network into SCCs, and then amending each SCC with the nodes which can influence it - that is, those that have in-edges to the SCC.\n",
    "\n",
    "Below is a visual representation of the concept - SCCs on the left, and corresponding blocks on the right.\n",
    "<div style=\"text-align: center;\">\n",
    "  <img src=\"./notebook_files/img/bn-mizera.png\" alt=\"bnmiz\" width=\"800\"/>\n",
    "</div>\n",
    "Source: \"A new decomposition-based method for detecting attractors in synchronous Boolean networks.\"\n",
    "Qixia Yuan, Andrzej Mizera, Jun Pang, and Hongyang Qu. Science of Computer Programming, 180:18-35, 2019. "
   ]
  },
  {
   "cell_type": "markdown",
   "metadata": {
    "editable": true,
    "id": "ULDAlJFWdtsl",
    "slideshow": {
     "slide_type": "subslide"
    },
    "tags": []
   },
   "source": [
    "We will now showcase the functionality of decomposing the network into blocks on the exact Boolean Network shown in the image above."
   ]
  },
  {
   "cell_type": "code",
   "execution_count": 8,
   "metadata": {
    "editable": true,
    "id": "X1E-EWCChSJs",
    "slideshow": {
     "slide_type": "fragment"
    },
    "tags": []
   },
   "outputs": [],
   "source": [
    "import requests\n",
    "\n",
    "url = \"https://raw.githubusercontent.com/zpp20/bang/refs/heads/69-numba-version/examples/example.assa\"\n",
    "\n",
    "response = requests.get(url)\n",
    "content = response.text\n",
    "\n",
    "with open(\"example.assa\", \"w\") as file2:\n",
    "    file2.write(content)"
   ]
  },
  {
   "cell_type": "code",
   "execution_count": 3,
   "metadata": {
    "colab": {
     "base_uri": "https://localhost:8080/"
    },
    "editable": true,
    "id": "dusMz522h0A1",
    "outputId": "68c572dc-809e-49e9-9e27-29a7ac886c86",
    "slideshow": {
     "slide_type": "fragment"
    },
    "tags": []
   },
   "outputs": [
    {
     "ename": "NameError",
     "evalue": "name 'bang' is not defined",
     "output_type": "error",
     "traceback": [
      "\u001b[31m---------------------------------------------------------------------------\u001b[39m",
      "\u001b[31mNameError\u001b[39m                                 Traceback (most recent call last)",
      "\u001b[36mCell\u001b[39m\u001b[36m \u001b[39m\u001b[32mIn[3]\u001b[39m\u001b[32m, line 1\u001b[39m\n\u001b[32m----> \u001b[39m\u001b[32m1\u001b[39m pbn = \u001b[43mbang\u001b[49m.load_from_file(\u001b[33m\"\u001b[39m\u001b[33mexample.assa\u001b[39m\u001b[33m\"\u001b[39m, \u001b[33m\"\u001b[39m\u001b[33massa\u001b[39m\u001b[33m\"\u001b[39m)\n\u001b[32m      2\u001b[39m bang.get_blocks(pbn)\u001b[38;5;66;03m#TODO dać tu obrazek\u001b[39;00m\n",
      "\u001b[31mNameError\u001b[39m: name 'bang' is not defined"
     ]
    }
   ],
   "source": [
    "pbn = bang.load_from_file(\"example.assa\", \"assa\")\n",
    "bang.get_blocks(pbn)#TODO dać tu obrazek"
   ]
  },
  {
   "cell_type": "markdown",
   "metadata": {
    "editable": true,
    "id": "731m5VQQ4o4F",
    "slideshow": {
     "slide_type": "fragment"
    },
    "tags": []
   },
   "source": [
    "These blocks directly correspond to the example pictured above, we have three two-element blocks and one four-element block."
   ]
  },
  {
   "cell_type": "markdown",
   "metadata": {
    "editable": true,
    "slideshow": {
     "slide_type": "subslide"
    },
    "tags": []
   },
   "source": [
    "We will now showcase the functionality of decomposing the network into blocks on the exact Boolean Network shown in the image above."
   ]
  },
  {
   "cell_type": "code",
   "execution_count": 25,
   "metadata": {
    "editable": true,
    "slideshow": {
     "slide_type": "fragment"
    },
    "tags": []
   },
   "outputs": [
    {
     "data": {
      "image/svg+xml": [
       "<?xml version=\"1.0\" encoding=\"UTF-8\" standalone=\"no\"?>\n",
       "<!DOCTYPE svg PUBLIC \"-//W3C//DTD SVG 1.1//EN\"\n",
       " \"http://www.w3.org/Graphics/SVG/1.1/DTD/svg11.dtd\">\n",
       "<!-- Generated by graphviz version 2.43.0 (0)\n",
       " -->\n",
       "<!-- Title: %3 Pages: 1 -->\n",
       "<svg width=\"116pt\" height=\"332pt\"\n",
       " viewBox=\"0.00 0.00 116.00 332.00\" xmlns=\"http://www.w3.org/2000/svg\" xmlns:xlink=\"http://www.w3.org/1999/xlink\">\n",
       "<g id=\"graph0\" class=\"graph\" transform=\"scale(1 1) rotate(0) translate(4 328)\">\n",
       "<title>%3</title>\n",
       "<polygon fill=\"white\" stroke=\"transparent\" points=\"-4,4 -4,-328 112,-328 112,4 -4,4\"/>\n",
       "<!-- 0 -->\n",
       "<g id=\"node1\" class=\"node\">\n",
       "<title>0</title>\n",
       "<ellipse fill=\"white\" stroke=\"#cb3434\" cx=\"41\" cy=\"-306\" rx=\"18\" ry=\"18\"/>\n",
       "<text text-anchor=\"middle\" x=\"41\" y=\"-302.3\" font-family=\"Times,serif\" font-size=\"14.00\">0</text>\n",
       "</g>\n",
       "<!-- 0&#45;&gt;0 -->\n",
       "<g id=\"edge1\" class=\"edge\">\n",
       "<title>0&#45;&gt;0</title>\n",
       "<path fill=\"none\" stroke=\"black\" d=\"M55.04,-317.76C65.91,-322.15 77,-318.23 77,-306 77,-297.59 71.76,-293.11 64.95,-292.56\"/>\n",
       "<polygon fill=\"black\" stroke=\"black\" points=\"64.31,-289.12 55.04,-294.24 65.49,-296.02 64.31,-289.12\"/>\n",
       "</g>\n",
       "<!-- 1 -->\n",
       "<g id=\"node2\" class=\"node\">\n",
       "<title>1</title>\n",
       "<path fill=\"#cb3434\" stroke=\"#cb3434\" stroke-width=\"0.5\" d=\"M41,-234C41,-234 59,-234 59,-234 59,-234.79 58.95,-235.57 58.85,-236.35 58.74,-237.13 58.59,-237.9 58.39,-238.66 58.18,-239.42 57.93,-240.16 57.63,-240.89 57.33,-241.61 56.98,-242.32 56.59,-243 56.2,-243.68 55.76,-244.33 55.28,-244.96 54.8,-245.58 54.28,-246.17 53.73,-246.73 53.17,-247.28 52.58,-247.8 51.96,-248.28 51.33,-248.76 50.68,-249.2 50,-249.59 49.32,-249.98 48.61,-250.33 47.89,-250.63 47.16,-250.93 46.42,-251.18 45.66,-251.39 44.9,-251.59 44.13,-251.74 43.35,-251.85 42.57,-251.95 41.79,-252 41,-252 40.21,-252 39.43,-251.95 38.65,-251.85 37.87,-251.74 37.1,-251.59 36.34,-251.39 35.58,-251.18 34.84,-250.93 34.11,-250.63 33.39,-250.33 32.68,-249.98 32,-249.59 32,-249.59 41,-234 41,-234\"/>\n",
       "<path fill=\"#74e403\" stroke=\"#cb3434\" stroke-width=\"0.5\" d=\"M41,-234C41,-234 32,-249.59 32,-249.59 31.32,-249.2 30.67,-248.76 30.04,-248.28 29.42,-247.8 28.83,-247.28 28.27,-246.73 27.72,-246.17 27.2,-245.58 26.72,-244.96 26.24,-244.33 25.8,-243.68 25.41,-243 25.02,-242.32 24.67,-241.61 24.37,-240.89 24.07,-240.16 23.82,-239.42 23.61,-238.66 23.41,-237.9 23.26,-237.13 23.15,-236.35 23.05,-235.57 23,-234.79 23,-234 23,-233.21 23.05,-232.43 23.15,-231.65 23.26,-230.87 23.41,-230.1 23.61,-229.34 23.82,-228.58 24.07,-227.84 24.37,-227.11 24.67,-226.39 25.02,-225.68 25.41,-225 25.8,-224.32 26.24,-223.67 26.72,-223.04 27.2,-222.42 27.72,-221.83 28.27,-221.27 28.83,-220.72 29.42,-220.2 30.04,-219.72 30.67,-219.24 31.32,-218.8 32,-218.41 32,-218.41 41,-234 41,-234\"/>\n",
       "<path fill=\"#25b7b7\" stroke=\"#cb3434\" stroke-width=\"0.5\" d=\"M41,-234C41,-234 32,-218.41 32,-218.41 32.68,-218.02 33.39,-217.67 34.11,-217.37 34.84,-217.07 35.58,-216.82 36.34,-216.61 37.1,-216.41 37.87,-216.26 38.65,-216.15 39.43,-216.05 40.21,-216 41,-216 41.79,-216 42.57,-216.05 43.35,-216.15 44.13,-216.26 44.9,-216.41 45.66,-216.61 46.42,-216.82 47.16,-217.07 47.89,-217.37 48.61,-217.67 49.32,-218.02 50,-218.41 50.68,-218.8 51.33,-219.24 51.96,-219.72 52.58,-220.2 53.17,-220.72 53.73,-221.27 54.28,-221.83 54.8,-222.42 55.28,-223.04 55.76,-223.67 56.2,-224.32 56.59,-225 56.98,-225.68 57.33,-226.39 57.63,-227.11 57.93,-227.84 58.18,-228.58 58.39,-229.34 58.59,-230.1 58.74,-230.87 58.85,-231.65 58.95,-232.43 59,-233.21 59,-234 59,-234 41,-234 41,-234\"/>\n",
       "<ellipse fill=\"none\" stroke=\"#cb3434\" cx=\"41\" cy=\"-234\" rx=\"18\" ry=\"18\"/>\n",
       "<text text-anchor=\"middle\" x=\"41\" y=\"-230.3\" font-family=\"Times,serif\" font-size=\"14.00\">1</text>\n",
       "</g>\n",
       "<!-- 0&#45;&gt;1 -->\n",
       "<g id=\"edge3\" class=\"edge\">\n",
       "<title>0&#45;&gt;1</title>\n",
       "<path fill=\"none\" stroke=\"black\" d=\"M35.2,-288.76C34.29,-280.64 34.03,-270.59 34.43,-261.39\"/>\n",
       "<polygon fill=\"black\" stroke=\"black\" points=\"37.95,-261.38 35.21,-251.15 30.97,-260.86 37.95,-261.38\"/>\n",
       "</g>\n",
       "<!-- 1&#45;&gt;0 -->\n",
       "<g id=\"edge2\" class=\"edge\">\n",
       "<title>1&#45;&gt;0</title>\n",
       "<path fill=\"none\" stroke=\"black\" d=\"M46.79,-251.15C47.71,-259.26 47.97,-269.3 47.57,-278.51\"/>\n",
       "<polygon fill=\"black\" stroke=\"black\" points=\"44.06,-278.53 46.8,-288.76 51.04,-279.05 44.06,-278.53\"/>\n",
       "</g>\n",
       "<!-- 1&#45;&gt;1 -->\n",
       "<g id=\"edge4\" class=\"edge\">\n",
       "<title>1&#45;&gt;1</title>\n",
       "<path fill=\"none\" stroke=\"black\" d=\"M55.04,-245.76C65.91,-250.15 77,-246.23 77,-234 77,-225.59 71.76,-221.11 64.95,-220.56\"/>\n",
       "<polygon fill=\"black\" stroke=\"black\" points=\"64.31,-217.12 55.04,-222.24 65.49,-224.02 64.31,-217.12\"/>\n",
       "</g>\n",
       "<!-- 2 -->\n",
       "<g id=\"node3\" class=\"node\">\n",
       "<title>2</title>\n",
       "<path fill=\"#74e403\" stroke=\"#74e403\" stroke-width=\"0.5\" d=\"M64,-162C64,-162 82,-162 82,-162 82,-162.79 81.95,-163.57 81.85,-164.35 81.74,-165.13 81.59,-165.9 81.39,-166.66 81.18,-167.42 80.93,-168.16 80.63,-168.89 80.33,-169.61 79.98,-170.32 79.59,-171 79.2,-171.68 78.76,-172.33 78.28,-172.96 77.8,-173.58 77.28,-174.17 76.73,-174.73 76.17,-175.28 75.58,-175.8 74.96,-176.28 74.33,-176.76 73.68,-177.2 73,-177.59 72.32,-177.98 71.61,-178.33 70.89,-178.63 70.16,-178.93 69.42,-179.18 68.66,-179.39 67.9,-179.59 67.13,-179.74 66.35,-179.85 65.57,-179.95 64.79,-180 64,-180 63.21,-180 62.43,-179.95 61.65,-179.85 60.87,-179.74 60.1,-179.59 59.34,-179.39 58.58,-179.18 57.84,-178.93 57.11,-178.63 56.39,-178.33 55.68,-177.98 55,-177.59 55,-177.59 64,-162 64,-162\"/>\n",
       "<path fill=\"#25b7b7\" stroke=\"#74e403\" stroke-width=\"0.5\" d=\"M64,-162C64,-162 55,-177.59 55,-177.59 54.32,-177.2 53.67,-176.76 53.04,-176.28 52.42,-175.8 51.83,-175.28 51.27,-174.73 50.72,-174.17 50.2,-173.58 49.72,-172.96 49.24,-172.33 48.8,-171.68 48.41,-171 48.02,-170.32 47.67,-169.61 47.37,-168.89 47.07,-168.16 46.82,-167.42 46.61,-166.66 46.41,-165.9 46.26,-165.13 46.15,-164.35 46.05,-163.57 46,-162.79 46,-162 46,-161.21 46.05,-160.43 46.15,-159.65 46.26,-158.87 46.41,-158.1 46.61,-157.34 46.82,-156.58 47.07,-155.84 47.37,-155.11 47.67,-154.39 48.02,-153.68 48.41,-153 48.8,-152.32 49.24,-151.67 49.72,-151.04 50.2,-150.42 50.72,-149.83 51.27,-149.27 51.83,-148.72 52.42,-148.2 53.04,-147.72 53.67,-147.24 54.32,-146.8 55,-146.41 55,-146.41 64,-162 64,-162\"/>\n",
       "<path fill=\"#6910c2\" stroke=\"#74e403\" stroke-width=\"0.5\" d=\"M64,-162C64,-162 55,-146.41 55,-146.41 55.68,-146.02 56.39,-145.67 57.11,-145.37 57.84,-145.07 58.58,-144.82 59.34,-144.61 60.1,-144.41 60.87,-144.26 61.65,-144.15 62.43,-144.05 63.21,-144 64,-144 64.79,-144 65.57,-144.05 66.35,-144.15 67.13,-144.26 67.9,-144.41 68.66,-144.61 69.42,-144.82 70.16,-145.07 70.89,-145.37 71.61,-145.67 72.32,-146.02 73,-146.41 73.68,-146.8 74.33,-147.24 74.96,-147.72 75.58,-148.2 76.17,-148.72 76.73,-149.27 77.28,-149.83 77.8,-150.42 78.28,-151.04 78.76,-151.67 79.2,-152.32 79.59,-153 79.98,-153.68 80.33,-154.39 80.63,-155.11 80.93,-155.84 81.18,-156.58 81.39,-157.34 81.59,-158.1 81.74,-158.87 81.85,-159.65 81.95,-160.43 82,-161.21 82,-162 82,-162 64,-162 64,-162\"/>\n",
       "<ellipse fill=\"none\" stroke=\"#74e403\" cx=\"64\" cy=\"-162\" rx=\"18\" ry=\"18\"/>\n",
       "<text text-anchor=\"middle\" x=\"64\" y=\"-158.3\" font-family=\"Times,serif\" font-size=\"14.00\">2</text>\n",
       "</g>\n",
       "<!-- 1&#45;&gt;2 -->\n",
       "<g id=\"edge5\" class=\"edge\">\n",
       "<title>1&#45;&gt;2</title>\n",
       "<path fill=\"none\" stroke=\"black\" d=\"M46.33,-216.76C49.02,-208.58 52.35,-198.45 55.39,-189.2\"/>\n",
       "<polygon fill=\"black\" stroke=\"black\" points=\"58.74,-190.23 58.53,-179.63 52.09,-188.04 58.74,-190.23\"/>\n",
       "</g>\n",
       "<!-- 3 -->\n",
       "<g id=\"node4\" class=\"node\">\n",
       "<title>3</title>\n",
       "<ellipse fill=\"white\" stroke=\"#25b7b7\" cx=\"18\" cy=\"-90\" rx=\"18\" ry=\"18\"/>\n",
       "<text text-anchor=\"middle\" x=\"18\" y=\"-86.3\" font-family=\"Times,serif\" font-size=\"14.00\">3</text>\n",
       "</g>\n",
       "<!-- 1&#45;&gt;3 -->\n",
       "<g id=\"edge6\" class=\"edge\">\n",
       "<title>1&#45;&gt;3</title>\n",
       "<path fill=\"none\" stroke=\"black\" d=\"M38.27,-216.15C34.35,-191.92 27.06,-146.96 22.38,-118.05\"/>\n",
       "<polygon fill=\"black\" stroke=\"black\" points=\"25.78,-117.14 20.73,-107.82 18.87,-118.26 25.78,-117.14\"/>\n",
       "</g>\n",
       "<!-- 2&#45;&gt;3 -->\n",
       "<g id=\"edge7\" class=\"edge\">\n",
       "<title>2&#45;&gt;3</title>\n",
       "<path fill=\"none\" stroke=\"black\" d=\"M54.47,-146.5C48.3,-137.11 40.14,-124.69 33.1,-113.98\"/>\n",
       "<polygon fill=\"black\" stroke=\"black\" points=\"35.94,-111.92 27.52,-105.49 30.09,-115.76 35.94,-111.92\"/>\n",
       "</g>\n",
       "<!-- 5 -->\n",
       "<g id=\"node6\" class=\"node\">\n",
       "<title>5</title>\n",
       "<ellipse fill=\"white\" stroke=\"#6910c2\" cx=\"72\" cy=\"-90\" rx=\"18\" ry=\"18\"/>\n",
       "<text text-anchor=\"middle\" x=\"72\" y=\"-86.3\" font-family=\"Times,serif\" font-size=\"14.00\">5</text>\n",
       "</g>\n",
       "<!-- 2&#45;&gt;5 -->\n",
       "<g id=\"edge11\" class=\"edge\">\n",
       "<title>2&#45;&gt;5</title>\n",
       "<path fill=\"none\" stroke=\"black\" d=\"M65.94,-144.05C66.82,-136.35 67.88,-127.03 68.87,-118.36\"/>\n",
       "<polygon fill=\"black\" stroke=\"black\" points=\"72.37,-118.61 70.03,-108.28 65.41,-117.81 72.37,-118.61\"/>\n",
       "</g>\n",
       "<!-- 4 -->\n",
       "<g id=\"node5\" class=\"node\">\n",
       "<title>4</title>\n",
       "<ellipse fill=\"white\" stroke=\"#25b7b7\" cx=\"18\" cy=\"-18\" rx=\"18\" ry=\"18\"/>\n",
       "<text text-anchor=\"middle\" x=\"18\" y=\"-14.3\" font-family=\"Times,serif\" font-size=\"14.00\">4</text>\n",
       "</g>\n",
       "<!-- 3&#45;&gt;4 -->\n",
       "<g id=\"edge9\" class=\"edge\">\n",
       "<title>3&#45;&gt;4</title>\n",
       "<path fill=\"none\" stroke=\"black\" d=\"M12.2,-72.76C11.29,-64.64 11.03,-54.59 11.43,-45.39\"/>\n",
       "<polygon fill=\"black\" stroke=\"black\" points=\"14.95,-45.38 12.21,-35.15 7.97,-44.86 14.95,-45.38\"/>\n",
       "</g>\n",
       "<!-- 4&#45;&gt;3 -->\n",
       "<g id=\"edge8\" class=\"edge\">\n",
       "<title>4&#45;&gt;3</title>\n",
       "<path fill=\"none\" stroke=\"black\" d=\"M23.79,-35.15C24.71,-43.26 24.97,-53.3 24.57,-62.51\"/>\n",
       "<polygon fill=\"black\" stroke=\"black\" points=\"21.06,-62.53 23.8,-72.76 28.04,-63.05 21.06,-62.53\"/>\n",
       "</g>\n",
       "<!-- 4&#45;&gt;4 -->\n",
       "<g id=\"edge10\" class=\"edge\">\n",
       "<title>4&#45;&gt;4</title>\n",
       "<path fill=\"none\" stroke=\"black\" d=\"M32.04,-29.76C42.91,-34.15 54,-30.23 54,-18 54,-9.59 48.76,-5.11 41.95,-4.56\"/>\n",
       "<polygon fill=\"black\" stroke=\"black\" points=\"41.31,-1.12 32.04,-6.24 42.49,-8.02 41.31,-1.12\"/>\n",
       "</g>\n",
       "<!-- 5&#45;&gt;5 -->\n",
       "<g id=\"edge12\" class=\"edge\">\n",
       "<title>5&#45;&gt;5</title>\n",
       "<path fill=\"none\" stroke=\"black\" d=\"M86.04,-101.76C96.91,-106.15 108,-102.23 108,-90 108,-81.59 102.76,-77.11 95.95,-76.56\"/>\n",
       "<polygon fill=\"black\" stroke=\"black\" points=\"95.31,-73.12 86.04,-78.24 96.49,-80.02 95.31,-73.12\"/>\n",
       "</g>\n",
       "</g>\n",
       "</svg>\n"
      ],
      "text/plain": [
       "<graphviz.graphs.Digraph at 0x7618ad066d50>"
      ]
     },
     "execution_count": 25,
     "metadata": {},
     "output_type": "execute_result"
    }
   ],
   "source": [
    "import requests\n",
    "\n",
    "url = \"https://raw.githubusercontent.com/zpp20/bang/refs/heads/69-numba-version/examples/example.assa\"\n",
    "\n",
    "response = requests.get(url)\n",
    "content = response.text\n",
    "\n",
    "with open(\"example.assa\", \"w\") as file2:\n",
    "    file2.write(content)\n",
    "\n",
    "pbn_graph = bang.load_from_file(\"example.assa\", \"assa\")\n",
    "pbn_graph.block_graph()"
   ]
  },
  {
   "cell_type": "markdown",
   "metadata": {
    "editable": true,
    "id": "Y5oeiKXm5PFg",
    "slideshow": {
     "slide_type": "slide"
    },
    "tags": []
   },
   "source": [
    "## Attractor detection\n",
    "\n",
    "We decompose Boolean Networks into smaller blocks with a subset of all nodes. Attractors computed on smaller blocks can be later combined to restore attractors of the original BN. In our library we implement algorithm from <br>\n",
    "\n",
    "\"*A new decomposition-based method for detecting attractors in synchronous Boolean networks.*\" <br>\n",
    "Qixia Yuan, Andrzej Mizera, Jun Pang, and Hongyang Qu. Science of Computer Programming, 180:18-35, 2019 <br>\n",
    "\n",
    "by parallelizing block attractor detection on CPU via threads and single-block attractor detection on GPU with the use of simple_steps."
   ]
  },
  {
   "cell_type": "markdown",
   "metadata": {
    "editable": true,
    "slideshow": {
     "slide_type": "subslide"
    },
    "tags": []
   },
   "source": [
    "We showcase finding attractors in example BN using our divide and conquer-like implementation."
   ]
  },
  {
   "cell_type": "code",
   "execution_count": 3,
   "metadata": {
    "colab": {
     "base_uri": "https://localhost:8080/"
    },
    "editable": true,
    "id": "iSUC3ufwfDpZ",
    "outputId": "1ea051cf-477c-40f4-f6ac-c4e8eee4041b",
    "slideshow": {
     "slide_type": "fragment"
    },
    "tags": []
   },
   "outputs": [
    {
     "name": "stdout",
     "output_type": "stream",
     "text": [
      "\n",
      "WARNING! CUDA is not available, falling back to CPU simulation\n",
      "WARNING! CUDA is not available, falling back to CPU simulation\n",
      "\n",
      "WARNING! CUDA is not available, falling back to CPU simulation\n",
      "WARNING! CUDA is not available, falling back to CPU simulation\n",
      "\n",
      "WARNING! CUDA is not available, falling back to CPU simulation\n",
      "WARNING! CUDA is not available, falling back to CPU simulation\n",
      "WARNING! CUDA is not available, falling back to CPU simulation\n",
      "WARNING! CUDA is not available, falling back to CPU simulation\n",
      "WARNING! CUDA is not available, falling back to CPU simulation\n",
      "WARNING! CUDA is not available, falling back to CPU simulation\n",
      "\n",
      "WARNING! CUDA is not available, falling back to CPU simulation\n",
      "WARNING! CUDA is not available, falling back to CPU simulation\n",
      "WARNING! CUDA is not available, falling back to CPU simulation\n"
     ]
    },
    {
     "data": {
      "text/plain": [
       "[[[True, False, True, True, True, False],\n",
       "  [True, True, True, True, True, False],\n",
       "  [False, False, False, True, True, False]]]"
      ]
     },
     "execution_count": 3,
     "metadata": {},
     "output_type": "execute_result"
    }
   ],
   "source": [
    "import bang\n",
    "\n",
    "example_bn = bang.PBN(\n",
    "    6,                                                                      #Number of nodes of PBN\n",
    "    [1, 1, 1, 1, 1, 1],                                                     #Number of Boolean functions per node\n",
    "    [2, 2, 1, 3, 2, 2],                                                     #Number of variables per boolean function\n",
    "    [                                                                       #Truth tables representing each function\n",
    "        [True, True, True, False],\n",
    "        [False, True, False, False],\n",
    "        [True, False],\n",
    "        [False, False, False, True, True, True, True, True],\n",
    "        [False, True, True, True],\n",
    "        [False, False, True, False],\n",
    "    ],\n",
    "    [[0, 1], [0, 1], [1], [1, 2, 4], [3, 4], [2, 5]],                       #Variables acting on each Boolean function\n",
    "    [[1.0], [1.0], [1.0], [1.0], [1.0], [1.0]],                             #Probability of picking each function for different nodes (always one since we have BN)\n",
    "    0.0,                                                                    #Probability of perturbation (0.0 since we have BN)\n",
    "    [7],                                                                    #Nodes for which we dont perform perturbation (irrelevant since we have BN)\n",
    "    update_type=\"synchronous\"                                               #BN updates synchronously. All nodes update at once.\n",
    ")\n",
    "\n",
    "example_bn.blocks_detect_attractors()"
   ]
  },
  {
   "cell_type": "markdown",
   "metadata": {
    "editable": true,
    "id": "jbBERZw3kw3f",
    "slideshow": {
     "slide_type": "slide"
    },
    "tags": []
   },
   "source": [
    "## Monte Carlo attractor detection\n",
    "\n",
    "In situations where simulating entire network is infeasible, especially for asynchronous networks, we can run Monte Carlo attractor detection where we run trajectories from multiple initial states and see if we encounter any repetitions."
   ]
  },
  {
   "cell_type": "code",
   "execution_count": 11,
   "metadata": {
    "editable": true,
    "slideshow": {
     "slide_type": "fragment"
    },
    "tags": []
   },
   "outputs": [
    {
     "name": "stdout",
     "output_type": "stream",
     "text": [
      "[array([0], dtype=uint32)]\n"
     ]
    },
    {
     "name": "stderr",
     "output_type": "stream",
     "text": [
      "/mnt/c/Users/mikolaj/Desktop/studia/zpp/wslenv/lib/python3.12/site-packages/numba_cuda/numba/cuda/dispatcher.py:605: NumbaPerformanceWarning: Grid size 1 will likely result in GPU under-utilization due to low occupancy.\n",
      "  warn(NumbaPerformanceWarning(msg))\n"
     ]
    }
   ],
   "source": [
    "import bang\n",
    "\n",
    "pbn = bang.load_from_file(\"examples/test2_no_perturbation.pbn\", \"assa\", n_parallel=3)\n",
    "\n",
    "attr = pbn.detect_attractors_monte_carlo(num_steps=1, step_length=50, repetitions=4)\n",
    "\n",
    "print(attr)#Zunifikować wypisywanie stanow"
   ]
  }
 ],
 "metadata": {
  "accelerator": "GPU",
  "colab": {
   "gpuType": "T4",
   "provenance": []
  },
  "kernelspec": {
   "display_name": "Python 3 (ipykernel)",
   "language": "python",
   "name": "python3"
  },
  "language_info": {
   "codemirror_mode": {
    "name": "ipython",
    "version": 3
   },
   "file_extension": ".py",
   "mimetype": "text/x-python",
   "name": "python",
   "nbconvert_exporter": "python",
   "pygments_lexer": "ipython3",
   "version": "3.12.3"
  }
 },
 "nbformat": 4,
 "nbformat_minor": 4
}
