{
 "cells": [
  {
   "cell_type": "code",
   "execution_count": 3,
   "id": "c6969e77-11c8-4af2-9102-33500fcbc929",
   "metadata": {},
   "outputs": [
    {
     "name": "stdout",
     "output_type": "stream",
     "text": [
      "Looking in indexes: https://test.pypi.org/simple/, https://pypi.org/simple/\n",
      "Requirement already satisfied: bang-gpu==0.1.0a9 in /mnt/c/Users/mikolaj/Desktop/studia/zpp/wslenv/lib/python3.12/site-packages (0.1.0a9)\n",
      "Requirement already satisfied: python-libsbml==5.20.4 in /mnt/c/Users/mikolaj/Desktop/studia/zpp/wslenv/lib/python3.12/site-packages (from bang-gpu==0.1.0a9) (5.20.4)\n",
      "Requirement already satisfied: numba-cuda==0.4.0 in /mnt/c/Users/mikolaj/Desktop/studia/zpp/wslenv/lib/python3.12/site-packages (from bang-gpu==0.1.0a9) (0.4.0)\n",
      "Requirement already satisfied: numba==0.61.0 in /mnt/c/Users/mikolaj/Desktop/studia/zpp/wslenv/lib/python3.12/site-packages (from bang-gpu==0.1.0a9) (0.61.0)\n",
      "Requirement already satisfied: numpy==2.0.2 in /mnt/c/Users/mikolaj/Desktop/studia/zpp/wslenv/lib/python3.12/site-packages (from bang-gpu==0.1.0a9) (2.0.2)\n",
      "Requirement already satisfied: graphviz==0.20.3 in /mnt/c/Users/mikolaj/Desktop/studia/zpp/wslenv/lib/python3.12/site-packages (from bang-gpu==0.1.0a9) (0.20.3)\n",
      "Requirement already satisfied: llvmlite<0.45,>=0.44.0dev0 in /mnt/c/Users/mikolaj/Desktop/studia/zpp/wslenv/lib/python3.12/site-packages (from numba==0.61.0->bang-gpu==0.1.0a9) (0.44.0)\n",
      "\n",
      "\u001b[1m[\u001b[0m\u001b[34;49mnotice\u001b[0m\u001b[1;39;49m]\u001b[0m\u001b[39;49m A new release of pip is available: \u001b[0m\u001b[31;49m25.0.1\u001b[0m\u001b[39;49m -> \u001b[0m\u001b[32;49m25.1\u001b[0m\n",
      "\u001b[1m[\u001b[0m\u001b[34;49mnotice\u001b[0m\u001b[1;39;49m]\u001b[0m\u001b[39;49m To update, run: \u001b[0m\u001b[32;49mpip install --upgrade pip\u001b[0m\n",
      "Note: you may need to restart the kernel to use updated packages.\n"
     ]
    }
   ],
   "source": [
    "pip install -i https://test.pypi.org/simple/ --extra-index-url https://pypi.org/simple/ bang-gpu==0.1.0a9"
   ]
  },
  {
   "cell_type": "code",
   "execution_count": 1,
   "id": "3de9629e-9c86-4595-975a-e3611ff4b754",
   "metadata": {},
   "outputs": [
    {
     "name": "stdout",
     "output_type": "stream",
     "text": [
      "Elapsed kernel execution time: 4152.292 ms\n",
      "Function took 8.366744 seconds\n"
     ]
    }
   ],
   "source": [
    "import bang\n",
    "import gc\n",
    "import time\n",
    "UPDATE = \"synchronous\"\n",
    "\n",
    "\n",
    "start = time.time()\n",
    "\n",
    "\n",
    "pbn1 = bang.PBN(2, [1,1],[2,2],[[True, True, True, False],[True, False, True, True]], [[0,1],[0,1]],[[1.],[1.]],0.,[2], n_parallel=1024 * 128, update_type=UPDATE)\n",
    "pbn1.set_states([[False, False] for _ in range(1024 * 128)], reset_history=True)\n",
    "pbn1.simple_steps(1000)\n",
    "\n",
    "end = time.time()\n",
    "\n",
    "print(f\"Function took {end - start:.6f} seconds\")"
   ]
  },
  {
   "cell_type": "code",
   "execution_count": null,
   "id": "8c3b6e8a-3183-4d56-99a9-7d4ea608c59a",
   "metadata": {},
   "outputs": [],
   "source": []
  }
 ],
 "metadata": {
  "kernelspec": {
   "display_name": "Python 3 (ipykernel)",
   "language": "python",
   "name": "python3"
  },
  "language_info": {
   "codemirror_mode": {
    "name": "ipython",
    "version": 3
   },
   "file_extension": ".py",
   "mimetype": "text/x-python",
   "name": "python",
   "nbconvert_exporter": "python",
   "pygments_lexer": "ipython3",
   "version": "3.12.3"
  }
 },
 "nbformat": 4,
 "nbformat_minor": 5
}
